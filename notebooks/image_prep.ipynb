{
 "cells": [
  {
   "cell_type": "markdown",
   "id": "575f7a40",
   "metadata": {},
   "source": [
    "#### loading libraries"
   ]
  },
  {
   "cell_type": "code",
   "execution_count": 107,
   "id": "aebd31b2",
   "metadata": {},
   "outputs": [],
   "source": [
    "import pandas as pd\n",
    "import numpy as np\n",
    "import os\n",
    "import os\n",
    "import shutil\n",
    "import scipy\n",
    "from tqdm import tqdm\n",
    "from tensorflow.keras.preprocessing.image import ImageDataGenerator, img_to_array, load_img\n",
    "from PIL import Image\n"
   ]
  },
  {
   "cell_type": "markdown",
   "id": "9bc80d76",
   "metadata": {},
   "source": [
    "#### loading data"
   ]
  },
  {
   "cell_type": "code",
   "execution_count": 108,
   "id": "98aee5c4",
   "metadata": {},
   "outputs": [],
   "source": [
    "train_path=r'D:/semestr_10/master_thesis/medical_chatbot/data/images/train'\n",
    "test_path=r'D:/semestr_10/master_thesis/medical_chatbot/data/images/test'\n",
    "valid_path=r'D:/semestr_10/master_thesis/medical_chatbot/data/images/val'\n",
    "\n",
    "list_of_classes=['Healthy', 'Doubtful', 'Minimal', 'Moderate', 'Severe']"
   ]
  },
  {
   "cell_type": "code",
   "execution_count": 109,
   "id": "bf6b793a",
   "metadata": {},
   "outputs": [],
   "source": [
    "for d in [train_path, test_path, valid_path]:\n",
    "    filepaths = []\n",
    "    labels=[] \n",
    "    classlist=os.listdir(d)   \n",
    "    for klass in classlist:\n",
    "        intklass=int(klass)\n",
    "        label=list_of_classes[intklass]\n",
    "        classpath=os.path.join(d, klass)\n",
    "        flist=os.listdir(classpath)        \n",
    "        for f in flist:\n",
    "            fpath=os.path.join(classpath,f)\n",
    "            filepaths.append(fpath)\n",
    "            labels.append(label)\n",
    "    Fseries=pd.Series(filepaths, name='filepaths')\n",
    "    Lseries=pd.Series(labels, name='labels')        \n",
    "    pdf=pd.concat([Fseries, Lseries], axis=1)\n",
    "    if d == test_path:\n",
    "        test_df=pdf\n",
    "    elif d == valid_path:\n",
    "        valid_df=pdf\n",
    "    else:\n",
    "        train_df=pdf"
   ]
  },
  {
   "cell_type": "code",
   "execution_count": 110,
   "id": "ca8f8bb4",
   "metadata": {},
   "outputs": [
    {
     "name": "stdout",
     "output_type": "stream",
     "text": [
      "The number of classes in the dataset is:  5 \n",
      "\n",
      "labels\n",
      "Healthy     2286\n",
      "Minimal     1516\n",
      "Doubtful    1046\n",
      "Moderate     757\n",
      "Severe       173\n",
      "Name: count, dtype: int64\n"
     ]
    }
   ],
   "source": [
    "classes=sorted(list(train_df['labels'].unique()))\n",
    "class_count = len(classes)\n",
    "print('The number of classes in the dataset is: ', class_count, \"\\n\")\n",
    "\n",
    "print(train_df['labels'].value_counts())"
   ]
  },
  {
   "cell_type": "markdown",
   "id": "cde749c0",
   "metadata": {},
   "source": [
    "Now because of imbalance of amount of data, there is going to be trim process applied here."
   ]
  },
  {
   "cell_type": "code",
   "execution_count": 111,
   "id": "f34e7e16",
   "metadata": {},
   "outputs": [],
   "source": [
    "def trim_data(df, max_samples, min_samples, column_name, label_samples = 250):\n",
    "    df=df.copy()\n",
    "    groups=df.groupby(column_name)    \n",
    "    trimmed_df = pd.DataFrame(columns = df.columns)\n",
    "    for label in df[column_name].unique(): \n",
    "        group=groups.get_group(label)\n",
    "        count=len(group)    \n",
    "        if label in ('Healthy', 'Minimal', 'Doubtful'):\n",
    "            sampled_group=group.sample(n=label_samples, random_state=123, axis=0)\n",
    "            trimmed_df=pd.concat([trimmed_df, sampled_group], axis=0)\n",
    "        else:\n",
    "            if count > max_samples:\n",
    "                sampled_group=group.sample(n=max_samples, random_state=123,axis=0)\n",
    "                trimmed_df=pd.concat([trimmed_df, sampled_group], axis=0)\n",
    "            else:\n",
    "                if count>=min_samples:\n",
    "                    sampled_group=group        \n",
    "                    trimmed_df=pd.concat([trimmed_df, sampled_group], axis=0)\n",
    "    return trimmed_df"
   ]
  },
  {
   "cell_type": "markdown",
   "id": "522d3c5a",
   "metadata": {},
   "source": [
    "Short function to show how many samples are in dataset."
   ]
  },
  {
   "cell_type": "code",
   "execution_count": 112,
   "id": "f457f140",
   "metadata": {},
   "outputs": [],
   "source": [
    "def explore_amount(df):\n",
    "    groups=df.groupby('labels')\n",
    "    print('{0:^30s} {1:^13s}'.format('CLASS', 'IMAGE COUNT'))\n",
    "    countlist=[]\n",
    "    classlist=[]\n",
    "    for label in sorted(list(df['labels'].unique())):\n",
    "        group=groups.get_group(label)\n",
    "        countlist.append(len(group))\n",
    "        classlist.append(label)\n",
    "        print('{0:^30s} {1:^13s}'.format(label, str(len(group))))\n",
    "    print('\\n')"
   ]
  },
  {
   "cell_type": "markdown",
   "id": "e39da1cc",
   "metadata": {},
   "source": [
    "### TRAIN"
   ]
  },
  {
   "cell_type": "markdown",
   "id": "e0d5cfc9",
   "metadata": {},
   "source": [
    "Trimming data."
   ]
  },
  {
   "cell_type": "code",
   "execution_count": 113,
   "id": "c8c8a7d8",
   "metadata": {},
   "outputs": [
    {
     "name": "stdout",
     "output_type": "stream",
     "text": [
      "            CLASS               IMAGE COUNT \n",
      "           Doubtful                1046     \n",
      "           Healthy                 2286     \n",
      "           Minimal                 1516     \n",
      "           Moderate                 757     \n",
      "            Severe                  173     \n",
      "\n",
      "\n"
     ]
    }
   ],
   "source": [
    "explore_amount(train_df)"
   ]
  },
  {
   "cell_type": "code",
   "execution_count": 114,
   "id": "c71dbdf2",
   "metadata": {},
   "outputs": [],
   "source": [
    "trimmed_train_df = trim_data(train_df, 500, 173, 'labels')"
   ]
  },
  {
   "cell_type": "code",
   "execution_count": 115,
   "id": "2b0656b3",
   "metadata": {},
   "outputs": [
    {
     "name": "stdout",
     "output_type": "stream",
     "text": [
      "labels\n",
      "Doubtful    250\n",
      "Healthy     250\n",
      "Minimal     250\n",
      "Moderate    500\n",
      "Severe      173\n",
      "Name: count, dtype: int64\n"
     ]
    }
   ],
   "source": [
    "print(trimmed_train_df['labels'].value_counts().sort_index())\n"
   ]
  },
  {
   "cell_type": "code",
   "execution_count": 116,
   "id": "8c441e69",
   "metadata": {},
   "outputs": [
    {
     "name": "stdout",
     "output_type": "stream",
     "text": [
      "            CLASS               IMAGE COUNT \n",
      "           Doubtful                 250     \n",
      "           Healthy                  250     \n",
      "           Minimal                  250     \n",
      "           Moderate                 500     \n",
      "            Severe                  173     \n",
      "\n",
      "\n"
     ]
    }
   ],
   "source": [
    "explore_amount(trimmed_train_df)"
   ]
  },
  {
   "cell_type": "markdown",
   "id": "cea3e08d",
   "metadata": {},
   "source": [
    "Now we change mapping of classes so that we will force this rule {Healthy:Healthy, Doubtful:Healthy, Minimal:Healthy, Moderate:Moderate, Severege:Severege}. So that two the most advanced severities are being classified while the others are meaningless or healthy."
   ]
  },
  {
   "cell_type": "code",
   "execution_count": 117,
   "id": "f9ec1aab",
   "metadata": {},
   "outputs": [],
   "source": [
    "def relabel(df):\n",
    "    mapping = {\n",
    "        'Doubtful': 'Healthy',\n",
    "        'Minimal': 'Healthy',\n",
    "        'Healthy': 'Healthy',\n",
    "        'Moderate': 'Moderate',\n",
    "        'Severe': 'Severe'\n",
    "    }\n",
    "    df['labels'] = df['labels'].map(mapping)\n",
    "    return df"
   ]
  },
  {
   "cell_type": "code",
   "execution_count": 118,
   "id": "cb199f8c",
   "metadata": {},
   "outputs": [],
   "source": [
    "trimmed_train_df = relabel(trimmed_train_df)"
   ]
  },
  {
   "cell_type": "code",
   "execution_count": 119,
   "id": "e15535c7",
   "metadata": {},
   "outputs": [
    {
     "name": "stdout",
     "output_type": "stream",
     "text": [
      "            CLASS               IMAGE COUNT \n",
      "           Healthy                  750     \n",
      "           Moderate                 500     \n",
      "            Severe                  173     \n",
      "\n",
      "\n"
     ]
    }
   ],
   "source": [
    "explore_amount(trimmed_train_df)"
   ]
  },
  {
   "cell_type": "code",
   "execution_count": 120,
   "id": "54bf0a59",
   "metadata": {},
   "outputs": [
    {
     "name": "stdout",
     "output_type": "stream",
     "text": [
      "The number of classes in the dataset is:  3\n"
     ]
    }
   ],
   "source": [
    "classes=sorted(list(trimmed_train_df['labels'].unique()))\n",
    "class_count = len(classes)\n",
    "print('The number of classes in the dataset is: ', class_count)"
   ]
  },
  {
   "cell_type": "code",
   "execution_count": 121,
   "id": "dd16ead0",
   "metadata": {},
   "outputs": [
    {
     "data": {
      "text/html": [
       "<div>\n",
       "<style scoped>\n",
       "    .dataframe tbody tr th:only-of-type {\n",
       "        vertical-align: middle;\n",
       "    }\n",
       "\n",
       "    .dataframe tbody tr th {\n",
       "        vertical-align: top;\n",
       "    }\n",
       "\n",
       "    .dataframe thead th {\n",
       "        text-align: right;\n",
       "    }\n",
       "</style>\n",
       "<table border=\"1\" class=\"dataframe\">\n",
       "  <thead>\n",
       "    <tr style=\"text-align: right;\">\n",
       "      <th></th>\n",
       "      <th>filepaths</th>\n",
       "      <th>labels</th>\n",
       "    </tr>\n",
       "  </thead>\n",
       "  <tbody>\n",
       "    <tr>\n",
       "      <th>749</th>\n",
       "      <td>D:/semestr_10/master_thesis/medical_chatbot/da...</td>\n",
       "      <td>Healthy</td>\n",
       "    </tr>\n",
       "    <tr>\n",
       "      <th>691</th>\n",
       "      <td>D:/semestr_10/master_thesis/medical_chatbot/da...</td>\n",
       "      <td>Healthy</td>\n",
       "    </tr>\n",
       "    <tr>\n",
       "      <th>289</th>\n",
       "      <td>D:/semestr_10/master_thesis/medical_chatbot/da...</td>\n",
       "      <td>Healthy</td>\n",
       "    </tr>\n",
       "    <tr>\n",
       "      <th>1831</th>\n",
       "      <td>D:/semestr_10/master_thesis/medical_chatbot/da...</td>\n",
       "      <td>Healthy</td>\n",
       "    </tr>\n",
       "    <tr>\n",
       "      <th>224</th>\n",
       "      <td>D:/semestr_10/master_thesis/medical_chatbot/da...</td>\n",
       "      <td>Healthy</td>\n",
       "    </tr>\n",
       "  </tbody>\n",
       "</table>\n",
       "</div>"
      ],
      "text/plain": [
       "                                              filepaths   labels\n",
       "749   D:/semestr_10/master_thesis/medical_chatbot/da...  Healthy\n",
       "691   D:/semestr_10/master_thesis/medical_chatbot/da...  Healthy\n",
       "289   D:/semestr_10/master_thesis/medical_chatbot/da...  Healthy\n",
       "1831  D:/semestr_10/master_thesis/medical_chatbot/da...  Healthy\n",
       "224   D:/semestr_10/master_thesis/medical_chatbot/da...  Healthy"
      ]
     },
     "execution_count": 121,
     "metadata": {},
     "output_type": "execute_result"
    }
   ],
   "source": [
    "trimmed_train_df.head()"
   ]
  },
  {
   "cell_type": "markdown",
   "id": "cda109a7",
   "metadata": {},
   "source": [
    "Function to perform data augmentation for \"Severe\" class since it has lowest number of samples, then it's saved to training folder for further usage."
   ]
  },
  {
   "cell_type": "code",
   "execution_count": 122,
   "id": "4c54245c",
   "metadata": {},
   "outputs": [],
   "source": [
    "def prepare_training_folder(df, image_col='filepaths', label_col='labels', \n",
    "                            output_dir='training', target_aug_class='Severe', target_count=500):\n",
    "\n",
    "    os.makedirs(output_dir, exist_ok=True)\n",
    "\n",
    "    print(\"Copying original images to training folder...\")\n",
    "    for _, row in tqdm(df.iterrows(), total=len(df)):\n",
    "        label = row[label_col]\n",
    "        src_path = row[image_col]\n",
    "        dest_dir = os.path.join(output_dir, label)\n",
    "        os.makedirs(dest_dir, exist_ok=True)\n",
    "        filename = os.path.basename(src_path)\n",
    "        dest_path = os.path.join(dest_dir, filename)\n",
    "\n",
    "        if not os.path.exists(dest_path):\n",
    "            shutil.copy2(src_path, dest_path)\n",
    "\n",
    "    class_dir = os.path.join(output_dir, target_aug_class)\n",
    "    current_count = len([f for f in os.listdir(class_dir) if f.lower().endswith(('.jpg', '.png', '.jpeg'))])\n",
    "    needed = target_count - current_count\n",
    "\n",
    "    if needed <= 0:\n",
    "        print(f\"No augmentation needed. '{target_aug_class}' already has {current_count} images.\")\n",
    "        return\n",
    "\n",
    "    print(f\"\\nAugmenting class '{target_aug_class}' with {needed} more images...\")\n",
    "\n",
    "    datagen = ImageDataGenerator(\n",
    "        rotation_range=20,\n",
    "        width_shift_range=0.1,\n",
    "        height_shift_range=0.1,\n",
    "        zoom_range=0.15,\n",
    "        horizontal_flip=True,\n",
    "        fill_mode='nearest'\n",
    "    )\n",
    "\n",
    "    target_df = df[df[label_col] == target_aug_class]\n",
    "\n",
    "    i = 0\n",
    "    pbar = tqdm(total=needed)\n",
    "    while i < needed:\n",
    "        sample = target_df.sample(1).iloc[0]\n",
    "        img = load_img(sample[image_col], target_size=(224, 224))\n",
    "        x = img_to_array(img)\n",
    "        x = np.expand_dims(x, axis=0)\n",
    "\n",
    "        aug_iter = datagen.flow(x, batch_size=1)\n",
    "        aug_img = next(aug_iter)[0].astype(np.uint8)\n",
    "\n",
    "        aug_filename = f\"{target_aug_class}_aug_{i}.jpg\"\n",
    "        aug_path = os.path.join(class_dir, aug_filename)\n",
    "\n",
    "        if not os.path.exists(aug_path):\n",
    "            Image.fromarray(aug_img).save(aug_path)\n",
    "            i += 1\n",
    "            pbar.update(1)\n",
    "\n",
    "    pbar.close()\n",
    "    print(f\"✅ Training folder prepared at '{output_dir}'\")"
   ]
  },
  {
   "cell_type": "code",
   "execution_count": 123,
   "id": "34db6f3e",
   "metadata": {},
   "outputs": [
    {
     "name": "stdout",
     "output_type": "stream",
     "text": [
      "Copying original images to training folder...\n"
     ]
    },
    {
     "name": "stderr",
     "output_type": "stream",
     "text": [
      "100%|██████████| 1423/1423 [00:02<00:00, 517.71it/s]\n"
     ]
    },
    {
     "name": "stdout",
     "output_type": "stream",
     "text": [
      "\n",
      "Augmenting class 'Severe' with 327 more images...\n"
     ]
    },
    {
     "name": "stderr",
     "output_type": "stream",
     "text": [
      "100%|██████████| 327/327 [00:08<00:00, 38.38it/s]"
     ]
    },
    {
     "name": "stdout",
     "output_type": "stream",
     "text": [
      "✅ Training folder prepared at 'training'\n"
     ]
    },
    {
     "name": "stderr",
     "output_type": "stream",
     "text": [
      "\n"
     ]
    }
   ],
   "source": [
    "prepare_training_folder(trimmed_train_df)"
   ]
  },
  {
   "cell_type": "markdown",
   "id": "95c43db3",
   "metadata": {},
   "source": [
    "### VALIDATION"
   ]
  },
  {
   "cell_type": "code",
   "execution_count": 124,
   "id": "389437ca",
   "metadata": {},
   "outputs": [
    {
     "name": "stdout",
     "output_type": "stream",
     "text": [
      "            CLASS               IMAGE COUNT \n",
      "           Doubtful                 153     \n",
      "           Healthy                  328     \n",
      "           Minimal                  212     \n",
      "           Moderate                 106     \n",
      "            Severe                  27      \n",
      "\n",
      "\n"
     ]
    }
   ],
   "source": [
    "explore_amount(valid_df)"
   ]
  },
  {
   "cell_type": "code",
   "execution_count": 126,
   "id": "7db609fd",
   "metadata": {},
   "outputs": [],
   "source": [
    "trimmed_valid_df = trim_data(valid_df, 100, 27, 'labels', 35)"
   ]
  },
  {
   "cell_type": "code",
   "execution_count": 127,
   "id": "0ab7c42f",
   "metadata": {},
   "outputs": [
    {
     "name": "stdout",
     "output_type": "stream",
     "text": [
      "            CLASS               IMAGE COUNT \n",
      "           Doubtful                 35      \n",
      "           Healthy                  35      \n",
      "           Minimal                  35      \n",
      "           Moderate                 100     \n",
      "            Severe                  27      \n",
      "\n",
      "\n"
     ]
    }
   ],
   "source": [
    "explore_amount(trimmed_valid_df)"
   ]
  },
  {
   "cell_type": "code",
   "execution_count": 128,
   "id": "2aeff9d3",
   "metadata": {},
   "outputs": [],
   "source": [
    "trimmed_valid_df = relabel(trimmed_valid_df)"
   ]
  },
  {
   "cell_type": "code",
   "execution_count": 129,
   "id": "45accbb7",
   "metadata": {},
   "outputs": [
    {
     "name": "stdout",
     "output_type": "stream",
     "text": [
      "            CLASS               IMAGE COUNT \n",
      "           Healthy                  105     \n",
      "           Moderate                 100     \n",
      "            Severe                  27      \n",
      "\n",
      "\n"
     ]
    }
   ],
   "source": [
    "explore_amount(trimmed_valid_df)"
   ]
  },
  {
   "cell_type": "code",
   "execution_count": 130,
   "id": "7082577e",
   "metadata": {},
   "outputs": [
    {
     "name": "stdout",
     "output_type": "stream",
     "text": [
      "Copying original images to training folder...\n"
     ]
    },
    {
     "name": "stderr",
     "output_type": "stream",
     "text": [
      "100%|██████████| 232/232 [00:02<00:00, 97.84it/s]\n"
     ]
    },
    {
     "name": "stdout",
     "output_type": "stream",
     "text": [
      "\n",
      "Augmenting class 'Severe' with 73 more images...\n"
     ]
    },
    {
     "name": "stderr",
     "output_type": "stream",
     "text": [
      "100%|██████████| 73/73 [00:00<00:00, 80.81it/s]"
     ]
    },
    {
     "name": "stdout",
     "output_type": "stream",
     "text": [
      "✅ Training folder prepared at 'valid'\n"
     ]
    },
    {
     "name": "stderr",
     "output_type": "stream",
     "text": [
      "\n"
     ]
    }
   ],
   "source": [
    "prepare_training_folder(trimmed_valid_df, output_dir='valid', target_count=100)"
   ]
  },
  {
   "cell_type": "markdown",
   "id": "7f3e6447",
   "metadata": {},
   "source": [
    "### TEST"
   ]
  },
  {
   "cell_type": "code",
   "execution_count": 125,
   "id": "05fa2796",
   "metadata": {},
   "outputs": [
    {
     "name": "stdout",
     "output_type": "stream",
     "text": [
      "            CLASS               IMAGE COUNT \n",
      "           Doubtful                 296     \n",
      "           Healthy                  639     \n",
      "           Minimal                  447     \n",
      "           Moderate                 223     \n",
      "            Severe                  51      \n",
      "\n",
      "\n"
     ]
    }
   ],
   "source": [
    "explore_amount(test_df)"
   ]
  },
  {
   "cell_type": "code",
   "execution_count": 133,
   "id": "0f2fa5a3",
   "metadata": {},
   "outputs": [],
   "source": [
    "trimmed_test_df = trim_data(test_df, 100, 51, column_name='labels', label_samples=35)"
   ]
  },
  {
   "cell_type": "code",
   "execution_count": 134,
   "id": "95009669",
   "metadata": {},
   "outputs": [
    {
     "name": "stdout",
     "output_type": "stream",
     "text": [
      "            CLASS               IMAGE COUNT \n",
      "           Doubtful                 35      \n",
      "           Healthy                  35      \n",
      "           Minimal                  35      \n",
      "           Moderate                 100     \n",
      "            Severe                  51      \n",
      "\n",
      "\n"
     ]
    }
   ],
   "source": [
    "explore_amount(trimmed_test_df)"
   ]
  },
  {
   "cell_type": "code",
   "execution_count": 135,
   "id": "0201eaa2",
   "metadata": {},
   "outputs": [],
   "source": [
    "trimmed_test_df = relabel(trimmed_test_df)"
   ]
  },
  {
   "cell_type": "code",
   "execution_count": 136,
   "id": "d8174db6",
   "metadata": {},
   "outputs": [
    {
     "name": "stdout",
     "output_type": "stream",
     "text": [
      "            CLASS               IMAGE COUNT \n",
      "           Healthy                  105     \n",
      "           Moderate                 100     \n",
      "            Severe                  51      \n",
      "\n",
      "\n"
     ]
    }
   ],
   "source": [
    "explore_amount(trimmed_test_df)"
   ]
  },
  {
   "cell_type": "code",
   "execution_count": 138,
   "id": "627d5021",
   "metadata": {},
   "outputs": [
    {
     "name": "stdout",
     "output_type": "stream",
     "text": [
      "Copying original images to training folder...\n"
     ]
    },
    {
     "name": "stderr",
     "output_type": "stream",
     "text": [
      "100%|██████████| 256/256 [00:00<00:00, 704.46it/s]\n"
     ]
    },
    {
     "name": "stdout",
     "output_type": "stream",
     "text": [
      "\n",
      "Augmenting class 'Severe' with 49 more images...\n"
     ]
    },
    {
     "name": "stderr",
     "output_type": "stream",
     "text": [
      "100%|██████████| 49/49 [00:00<00:00, 56.27it/s]"
     ]
    },
    {
     "name": "stdout",
     "output_type": "stream",
     "text": [
      "✅ Training folder prepared at 'test'\n"
     ]
    },
    {
     "name": "stderr",
     "output_type": "stream",
     "text": [
      "\n"
     ]
    }
   ],
   "source": [
    "prepare_training_folder(trimmed_test_df, output_dir='test', target_count=100)"
   ]
  }
 ],
 "metadata": {
  "kernelspec": {
   "display_name": "venv",
   "language": "python",
   "name": "python3"
  },
  "language_info": {
   "codemirror_mode": {
    "name": "ipython",
    "version": 3
   },
   "file_extension": ".py",
   "mimetype": "text/x-python",
   "name": "python",
   "nbconvert_exporter": "python",
   "pygments_lexer": "ipython3",
   "version": "3.10.11"
  }
 },
 "nbformat": 4,
 "nbformat_minor": 5
}
