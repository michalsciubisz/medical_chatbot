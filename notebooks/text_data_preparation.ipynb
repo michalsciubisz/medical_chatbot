{
 "cells": [
  {
   "cell_type": "code",
   "execution_count": 81,
   "id": "7895983a",
   "metadata": {},
   "outputs": [],
   "source": [
    "import pandas as pd\n",
    "import random\n",
    "import matplotlib.pyplot as plt"
   ]
  },
  {
   "cell_type": "code",
   "execution_count": 82,
   "id": "cc9e5464",
   "metadata": {},
   "outputs": [],
   "source": [
    "dataframe = pd.read_excel('D:/semestr_10/master_thesis/medical_chatbot/data/text_dataset.xlsx')"
   ]
  },
  {
   "cell_type": "markdown",
   "id": "1304e6ea",
   "metadata": {},
   "source": [
    "#### Remapping column names and droping unnecessary staff:"
   ]
  },
  {
   "cell_type": "code",
   "execution_count": 83,
   "id": "85db47cf",
   "metadata": {},
   "outputs": [
    {
     "name": "stdout",
     "output_type": "stream",
     "text": [
      "['Płeć', 'Wiek', 'Masa ciała', 'Wzrost', 'BMI', 'Stan cywilny', 'Wykształcenie', 'Charakter pracy', 'Miejsce zamieszkania', '1. Proszę podać ilość pobytów Pana/Pani na leczeniu uzdrowiskowym. ', '2. Z jakiego powodu przebywa Pan/Pani na leczeniu uzdrowiskoym? Można zaznaczyć jedną lub więcej odpowiedzi - choroba zwyrodnieniowa barku', '2. Z jakiego powodu przebywa Pan/Pani na leczeniu uzdrowiskoym? Można zaznaczyć jedną lub więcej odpowiedzi - choroba zwyrodnieniowa rąk', '2. Z jakiego powodu przebywa Pan/Pani na leczeniu uzdrowiskoym? Można zaznaczyć jedną lub więcej odpowiedzi - choroba zwyrodnieniowa stawów biodrowych', '2. Z jakiego powodu przebywa Pan/Pani na leczeniu uzdrowiskoym? Można zaznaczyć jedną lub więcej odpowiedzi - choroba zwyrodnieniowa stawów kolanowych', '2. Z jakiego powodu przebywa Pan/Pani na leczeniu uzdrowiskoym? Można zaznaczyć jedną lub więcej odpowiedzi - choroba zwyrodnieniowa stawów stopy', '2. Z jakiego powodu przebywa Pan/Pani na leczeniu uzdrowiskoym? Można zaznaczyć jedną lub więcej odpowiedzi - choroba zwyrodnieniowa kręgosłupa', '3. Na podstawie jakich badań zdiagnozowano u Pana/Pani chorobę zwyrodnieniową? Można zaznaczyć jedną lub więcej odpowiedzi. - badania lekarskiego i wywiadu', '3. Na podstawie jakich badań zdiagnozowano u Pana/Pani chorobę zwyrodnieniową? Można zaznaczyć jedną lub więcej odpowiedzi. - USG (ultrasonografia)', '3. Na podstawie jakich badań zdiagnozowano u Pana/Pani chorobę zwyrodnieniową? Można zaznaczyć jedną lub więcej odpowiedzi. - RTG (prześwietlenie)', '3. Na podstawie jakich badań zdiagnozowano u Pana/Pani chorobę zwyrodnieniową? Można zaznaczyć jedną lub więcej odpowiedzi. - RM (rezonans magnetyczny)', '3. Na podstawie jakich badań zdiagnozowano u Pana/Pani chorobę zwyrodnieniową? Można zaznaczyć jedną lub więcej odpowiedzi. - TK (tomografia komputerowa)', '3. Na podstawie jakich badań zdiagnozowano u Pana/Pani chorobę zwyrodnieniową? Można zaznaczyć jedną lub więcej odpowiedzi. - wyniku badania płynu stawowego z zajętych stawów', '4. Według Pana/Pani co wpłynęło na rozwój choroby zwyrodnieniowej stawów kończyn/kręgosłupa? Można zaznaczyć jedną lub więcej odpowiedzi. - wiek', '4. Według Pana/Pani co wpłynęło na rozwój choroby zwyrodnieniowej stawów kończyn/kręgosłupa? Można zaznaczyć jedną lub więcej odpowiedzi. - uwarunkowanie genetyczne', '4. Według Pana/Pani co wpłynęło na rozwój choroby zwyrodnieniowej stawów kończyn/kręgosłupa? Można zaznaczyć jedną lub więcej odpowiedzi. - ciężka praca fizyczna', '4. Według Pana/Pani co wpłynęło na rozwój choroby zwyrodnieniowej stawów kończyn/kręgosłupa? Można zaznaczyć jedną lub więcej odpowiedzi. - siedzący tryb życia', '4. Według Pana/Pani co wpłynęło na rozwój choroby zwyrodnieniowej stawów kończyn/kręgosłupa? Można zaznaczyć jedną lub więcej odpowiedzi. - mała aktywność fizyczna', '4. Według Pana/Pani co wpłynęło na rozwój choroby zwyrodnieniowej stawów kończyn/kręgosłupa? Można zaznaczyć jedną lub więcej odpowiedzi. - otyłość', '4. Według Pana/Pani co wpłynęło na rozwój choroby zwyrodnieniowej stawów kończyn/kręgosłupa? Można zaznaczyć jedną lub więcej odpowiedzi. - urazy', '4. Według Pana/Pani co wpłynęło na rozwój choroby zwyrodnieniowej stawów kończyn/kręgosłupa? Można zaznaczyć jedną lub więcej odpowiedzi. - sport wyczynowy', '4. Według Pana/Pani co wpłynęło na rozwój choroby zwyrodnieniowej stawów kończyn/kręgosłupa? Można zaznaczyć jedną lub więcej odpowiedzi. - niestabiność stawów', '4. Według Pana/Pani co wpłynęło na rozwój choroby zwyrodnieniowej stawów kończyn/kręgosłupa? Można zaznaczyć jedną lub więcej odpowiedzi. - stany zapalne stawów', '4. Według Pana/Pani co wpłynęło na rozwój choroby zwyrodnieniowej stawów kończyn/kręgosłupa? Można zaznaczyć jedną lub więcej odpowiedzi. - koślawość kolan', '4. Według Pana/Pani co wpłynęło na rozwój choroby zwyrodnieniowej stawów kończyn/kręgosłupa? Można zaznaczyć jedną lub więcej odpowiedzi. - skrzywienie kręgosłupa', '4. Według Pana/Pani co wpłynęło na rozwój choroby zwyrodnieniowej stawów kończyn/kręgosłupa? Można zaznaczyć jedną lub więcej odpowiedzi. - choroby współistniejące', '5. Jakie ma Pan/Pani dolegliwości w związku ze zwyrodnieniem stawów kończyn/kręgosłupa? Można zaznaczyć jedną lub więcej odpowiedzi. - dolegliwości bólowe', '5. Jakie ma Pan/Pani dolegliwości w związku ze zwyrodnieniem stawów kończyn/kręgosłupa? Można zaznaczyć jedną lub więcej odpowiedzi. - ograniczenie ruchomości w stawie', '5. Jakie ma Pan/Pani dolegliwości w związku ze zwyrodnieniem stawów kończyn/kręgosłupa? Można zaznaczyć jedną lub więcej odpowiedzi. - upośledzenie rotacji i odwodzenia w stawie', '5. Jakie ma Pan/Pani dolegliwości w związku ze zwyrodnieniem stawów kończyn/kręgosłupa? Można zaznaczyć jedną lub więcej odpowiedzi. - sztywność w stawie', '5. Jakie ma Pan/Pani dolegliwości w związku ze zwyrodnieniem stawów kończyn/kręgosłupa? Można zaznaczyć jedną lub więcej odpowiedzi. - trudność przy schylaniu i kucaniu', '5. Jakie ma Pan/Pani dolegliwości w związku ze zwyrodnieniem stawów kończyn/kręgosłupa? Można zaznaczyć jedną lub więcej odpowiedzi. - opadanie miednicy po przeciwnej stronie do zajętej zwyrodnieniem', '5. Jakie ma Pan/Pani dolegliwości w związku ze zwyrodnieniem stawów kończyn/kręgosłupa? Można zaznaczyć jedną lub więcej odpowiedzi. - niestabilność stawu', '5. Jakie ma Pan/Pani dolegliwości w związku ze zwyrodnieniem stawów kończyn/kręgosłupa? Można zaznaczyć jedną lub więcej odpowiedzi. - tkliwość', '5. Jakie ma Pan/Pani dolegliwości w związku ze zwyrodnieniem stawów kończyn/kręgosłupa? Można zaznaczyć jedną lub więcej odpowiedzi. - trzeszczenie w stawie', '5. Jakie ma Pan/Pani dolegliwości w związku ze zwyrodnieniem stawów kończyn/kręgosłupa? Można zaznaczyć jedną lub więcej odpowiedzi. - poszerzenie i zniekształcenie obrysów stawów', '5. Jakie ma Pan/Pani dolegliwości w związku ze zwyrodnieniem stawów kończyn/kręgosłupa? Można zaznaczyć jedną lub więcej odpowiedzi. - obrzęk stawu', '5. Jakie ma Pan/Pani dolegliwości w związku ze zwyrodnieniem stawów kończyn/kręgosłupa? Można zaznaczyć jedną lub więcej odpowiedzi. - trudności w wykonywaniu palcami czynności precyzyjnych', '5. Jakie ma Pan/Pani dolegliwości w związku ze zwyrodnieniem stawów kończyn/kręgosłupa? Można zaznaczyć jedną lub więcej odpowiedzi. - utykanie', '5. Jakie ma Pan/Pani dolegliwości w związku ze zwyrodnieniem stawów kończyn/kręgosłupa? Można zaznaczyć jedną lub więcej odpowiedzi. - pogorszenie jakości chodu', '6. Czy w rodzinie Pana/Pani występowała choroba zwyrodnieniowa stawów kończyn/ kręgosłupa?', '7. Czy porusza się Pan/Pani samodzielnie? ', '8. Czy używa Pan/Pani sprzętu pomocniczego?', '9. Czy przed leczeniem uzdrowiskowym, choroba zwyrodnieniowa ograniczała Pana/Pani możliwości wykonywania czynności życia codziennego takich jak: - Wykonywanie toalety ciała, kąpieli', '9. Czy przed leczeniem uzdrowiskowym, choroba zwyrodnieniowa ograniczała Pana/Pani możliwości wykonywania czynności życia codziennego takich jak: - Ubieranie się', '9. Czy przed leczeniem uzdrowiskowym, choroba zwyrodnieniowa ograniczała Pana/Pani możliwości wykonywania czynności życia codziennego takich jak: - Sprzątanie', '9. Czy przed leczeniem uzdrowiskowym, choroba zwyrodnieniowa ograniczała Pana/Pani możliwości wykonywania czynności życia codziennego takich jak: - Podnoszenie lub dźwiganie ciężkich przedmiotów np. Zakupów', '9. Czy przed leczeniem uzdrowiskowym, choroba zwyrodnieniowa ograniczała Pana/Pani możliwości wykonywania czynności życia codziennego takich jak: - Wchodzenie po schodach na wysokość jednego piętra', '9. Czy przed leczeniem uzdrowiskowym, choroba zwyrodnieniowa ograniczała Pana/Pani możliwości wykonywania czynności życia codziennego takich jak: - Wchodzenie po schodach na wysokość drugiego piętra', '9. Czy przed leczeniem uzdrowiskowym, choroba zwyrodnieniowa ograniczała Pana/Pani możliwości wykonywania czynności życia codziennego takich jak: - Schodzenie po schodach', '9. Czy przed leczeniem uzdrowiskowym, choroba zwyrodnieniowa ograniczała Pana/Pani możliwości wykonywania czynności życia codziennego takich jak: - Schylanie się lub kucanie', '9. Czy przed leczeniem uzdrowiskowym, choroba zwyrodnieniowa ograniczała Pana/Pani możliwości wykonywania czynności życia codziennego takich jak: - Spacer około 100 metrów', '9. Czy przed leczeniem uzdrowiskowym, choroba zwyrodnieniowa ograniczała Pana/Pani możliwości wykonywania czynności życia codziennego takich jak: - Spacer około 500 metrów', '9. Czy przed leczeniem uzdrowiskowym, choroba zwyrodnieniowa ograniczała Pana/Pani możliwości wykonywania czynności życia codziennego takich jak: - Spacer powyżej 1 kilometra', '9. Czy przed leczeniem uzdrowiskowym, choroba zwyrodnieniowa ograniczała Pana/Pani możliwości wykonywania czynności życia codziennego takich jak: - Jazda na rowerze', '9. Czy przed leczeniem uzdrowiskowym, choroba zwyrodnieniowa ograniczała Pana/Pani możliwości wykonywania czynności życia codziennego takich jak: - Realizacja własnych zainteresowań', '10. Jeżeli w pytaniu piątym zaznaczył Pan/Pani ból jako jedną z dolegliwości choroby zwyrodnieniowej, to jak często w ciągu ostatniego miesiąca występował? ', '11. Czy w ciągu ostatniego miesiąca ból zakłócał Pana/Pani funkcjonowanie w życiu codziennym? ', '12. Jak często z powodu dolegliwości bólowych był Pan/Pani zmuszony zażywać leki przeciwbólowe? ', '13. Czy choroba zwyrodnieniowa wpłynęła na Pana/Pani pracę zawodową? ', '14. Czy przed chorobą uprawiał Pan/Pani jakiś sport, aktywność rekreacyjną? ', '15. Czy w związku z chorobą zwyrodnieniową był Pan/Pani zmuszony zrezygnować z: ', '16. Czy choroba zwyrodnieniowa wywołuje u Pana/Pani zaburzenia emocjonalne takie jak: ', '17. Czy stosował Pan/Pani do tej pory jakąś terapię w związku z chorobą zwyrodnieniową? Jeżeli tak, to jaką? Można zaznaczyć jedną lub więcej odpowiedzi. - farmakologiczną (blokady bezpośrednio do stawów)', '17. Czy stosował Pan/Pani do tej pory jakąś terapię w związku z chorobą zwyrodnieniową? Jeżeli tak, to jaką? Można zaznaczyć jedną lub więcej odpowiedzi. - niefarmakologiczną (ciepłe lub chłodne okłady, ćwiczenia)', '17. Czy stosował Pan/Pani do tej pory jakąś terapię w związku z chorobą zwyrodnieniową? Jeżeli tak, to jaką? Można zaznaczyć jedną lub więcej odpowiedzi. - chirurgiczną (endoprotezoplastyka stawu biodrowego, kolanowego)', '17. Czy stosował Pan/Pani do tej pory jakąś terapię w związku z chorobą zwyrodnieniową? Jeżeli tak, to jaką? Można zaznaczyć jedną lub więcej odpowiedzi. - dietę - pozwalającą utrzymać optymalną masę ciała', '19. Czy korzysta Pan/Pani chętnie z zabiegów i ćwiczeń oferowanych w leczeniu uzdrowiskowym?', '20. Czy w trakcie leczenia uzdrowiskowego następuje u Pana/Pani poprawa sprawności fizycznej? ', '22. Czy według Pana/Pani zastosowane metody leczenia w trakcie pobytu uzdrowiskowego pozwoliły ograniczyć zażywane leki przeciwbólowe? ', '23. Czy panujący w uzdrowisku mikroklimat wpłynął na poprawę Pana/Pani stanu zdrowia?', '24. Czy kompleksowa opieka uzdrowiskowa wpłynęła na poprawę Pana/Pani samopoczucia psychicznego? (np. zmniejszając lęk i niepokój związany z chorobą) ', '25. Jak ocenia Pan/Pani swój stan zdrowia obecnie, porównując go do okresu przed przyjazdem do uzdrowiska? ', '26. Czy pobyt na leczeniu uzdrowiskowym poprawił Pana/Pani jakość życia?', '27. Jak bardzo jest Panu/Pani potrzebne leczenie uzdrowiskowe, aby dobrze funkcjonować w życiu codziennym?']\n"
     ]
    }
   ],
   "source": [
    "print(dataframe.columns.tolist())"
   ]
  },
  {
   "cell_type": "code",
   "execution_count": 84,
   "id": "5ca68441",
   "metadata": {},
   "outputs": [],
   "source": [
    "mapper = {\n",
    "    'Płeć' : 'Gender',\n",
    "    'Wiek' : 'Age',\n",
    "    'Masa ciała' : 'Weight',\n",
    "    'Wzrost' : 'Height',\n",
    "    'Charakter pracy' : 'Work type',\n",
    "    '2. Z jakiego powodu przebywa Pan/Pani na leczeniu uzdrowiskoym? Można zaznaczyć jedną lub więcej odpowiedzi - choroba zwyrodnieniowa barku' : 'Shoulder osteoarthritis',\n",
    "    '2. Z jakiego powodu przebywa Pan/Pani na leczeniu uzdrowiskoym? Można zaznaczyć jedną lub więcej odpowiedzi - choroba zwyrodnieniowa rąk' : 'Hand osteoarthritis',\n",
    "    '2. Z jakiego powodu przebywa Pan/Pani na leczeniu uzdrowiskoym? Można zaznaczyć jedną lub więcej odpowiedzi - choroba zwyrodnieniowa stawów biodrowych' : 'Hip joint osteoarthritis',\n",
    "    '2. Z jakiego powodu przebywa Pan/Pani na leczeniu uzdrowiskoym? Można zaznaczyć jedną lub więcej odpowiedzi - choroba zwyrodnieniowa stawów kolanowych' : 'Knee osteoarthritis',\n",
    "    '2. Z jakiego powodu przebywa Pan/Pani na leczeniu uzdrowiskoym? Można zaznaczyć jedną lub więcej odpowiedzi - choroba zwyrodnieniowa stawów stopy' : 'Feet osteoarthritis',\n",
    "    '2. Z jakiego powodu przebywa Pan/Pani na leczeniu uzdrowiskoym? Można zaznaczyć jedną lub więcej odpowiedzi - choroba zwyrodnieniowa kręgosłupa' : 'Spine osteoarthritis',\n",
    "    '3. Na podstawie jakich badań zdiagnozowano u Pana/Pani chorobę zwyrodnieniową? Można zaznaczyć jedną lub więcej odpowiedzi. - badania lekarskiego i wywiadu' : 'Diagnosis - medical examination and interview',\n",
    "    '3. Na podstawie jakich badań zdiagnozowano u Pana/Pani chorobę zwyrodnieniową? Można zaznaczyć jedną lub więcej odpowiedzi. - USG (ultrasonografia)' : 'Diagnosis - USG',\n",
    "    '3. Na podstawie jakich badań zdiagnozowano u Pana/Pani chorobę zwyrodnieniową? Można zaznaczyć jedną lub więcej odpowiedzi. - RTG (prześwietlenie)' : 'Diagnosis - RTG',\n",
    "    '3. Na podstawie jakich badań zdiagnozowano u Pana/Pani chorobę zwyrodnieniową? Można zaznaczyć jedną lub więcej odpowiedzi. - RM (rezonans magnetyczny)' : 'Diagnosis - MRI',\n",
    "    '3. Na podstawie jakich badań zdiagnozowano u Pana/Pani chorobę zwyrodnieniową? Można zaznaczyć jedną lub więcej odpowiedzi. - TK (tomografia komputerowa)' : 'Diagnosis - CT',\n",
    "    '3. Na podstawie jakich badań zdiagnozowano u Pana/Pani chorobę zwyrodnieniową? Można zaznaczyć jedną lub więcej odpowiedzi. - wyniku badania płynu stawowego z zajętych stawów' : 'Diagnosis - fluid from the joint',\n",
    "    '4. Według Pana/Pani co wpłynęło na rozwój choroby zwyrodnieniowej stawów kończyn/kręgosłupa? Można zaznaczyć jedną lub więcej odpowiedzi. - wiek' : 'Cause - age',\n",
    "    '4. Według Pana/Pani co wpłynęło na rozwój choroby zwyrodnieniowej stawów kończyn/kręgosłupa? Można zaznaczyć jedną lub więcej odpowiedzi. - uwarunkowanie genetyczne' : 'Cause - genetics',\n",
    "    '4. Według Pana/Pani co wpłynęło na rozwój choroby zwyrodnieniowej stawów kończyn/kręgosłupa? Można zaznaczyć jedną lub więcej odpowiedzi. - ciężka praca fizyczna' : 'Cause - physical work',\n",
    "    '4. Według Pana/Pani co wpłynęło na rozwój choroby zwyrodnieniowej stawów kończyn/kręgosłupa? Można zaznaczyć jedną lub więcej odpowiedzi. - siedzący tryb życia' : 'Cause - sedentary lifestyle',\n",
    "    '4. Według Pana/Pani co wpłynęło na rozwój choroby zwyrodnieniowej stawów kończyn/kręgosłupa? Można zaznaczyć jedną lub więcej odpowiedzi. - mała aktywność fizyczna' : 'Cause - little physical activity',\n",
    "    '4. Według Pana/Pani co wpłynęło na rozwój choroby zwyrodnieniowej stawów kończyn/kręgosłupa? Można zaznaczyć jedną lub więcej odpowiedzi. - otyłość' : 'Cause - obesity',\n",
    "    '4. Według Pana/Pani co wpłynęło na rozwój choroby zwyrodnieniowej stawów kończyn/kręgosłupa? Można zaznaczyć jedną lub więcej odpowiedzi. - urazy' : 'Cause - injuries',\n",
    "    '4. Według Pana/Pani co wpłynęło na rozwój choroby zwyrodnieniowej stawów kończyn/kręgosłupa? Można zaznaczyć jedną lub więcej odpowiedzi. - sport wyczynowy' : 'Cause - competitive sports',\n",
    "    '4. Według Pana/Pani co wpłynęło na rozwój choroby zwyrodnieniowej stawów kończyn/kręgosłupa? Można zaznaczyć jedną lub więcej odpowiedzi. - niestabiność stawów' : 'Cause - joint instability', \n",
    "    '4. Według Pana/Pani co wpłynęło na rozwój choroby zwyrodnieniowej stawów kończyn/kręgosłupa? Można zaznaczyć jedną lub więcej odpowiedzi. - stany zapalne stawów' : 'Cause - joint inflammation',\n",
    "    '4. Według Pana/Pani co wpłynęło na rozwój choroby zwyrodnieniowej stawów kończyn/kręgosłupa? Można zaznaczyć jedną lub więcej odpowiedzi. - koślawość kolan' : 'Cause - knock knees',\n",
    "    '4. Według Pana/Pani co wpłynęło na rozwój choroby zwyrodnieniowej stawów kończyn/kręgosłupa? Można zaznaczyć jedną lub więcej odpowiedzi. - skrzywienie kręgosłupa' : 'Cause - spinal curvature',\n",
    "    '4. Według Pana/Pani co wpłynęło na rozwój choroby zwyrodnieniowej stawów kończyn/kręgosłupa? Można zaznaczyć jedną lub więcej odpowiedzi. - choroby współistniejące' : 'Cause - comorbidities',\n",
    "    '5. Jakie ma Pan/Pani dolegliwości w związku ze zwyrodnieniem stawów kończyn/kręgosłupa? Można zaznaczyć jedną lub więcej odpowiedzi. - dolegliwości bólowe' : 'Ailments - pain',\n",
    "    '5. Jakie ma Pan/Pani dolegliwości w związku ze zwyrodnieniem stawów kończyn/kręgosłupa? Można zaznaczyć jedną lub więcej odpowiedzi. - ograniczenie ruchomości w stawie' : 'Ailments - limitation of mobility',\n",
    "    '5. Jakie ma Pan/Pani dolegliwości w związku ze zwyrodnieniem stawów kończyn/kręgosłupa? Można zaznaczyć jedną lub więcej odpowiedzi. - upośledzenie rotacji i odwodzenia w stawie' : 'Ailments - impairment of rotation and abduction in the joint', \n",
    "    '5. Jakie ma Pan/Pani dolegliwości w związku ze zwyrodnieniem stawów kończyn/kręgosłupa? Można zaznaczyć jedną lub więcej odpowiedzi. - sztywność w stawie' : 'Ailments - stiffness in the joint', \n",
    "    '5. Jakie ma Pan/Pani dolegliwości w związku ze zwyrodnieniem stawów kończyn/kręgosłupa? Można zaznaczyć jedną lub więcej odpowiedzi. - trudność przy schylaniu i kucaniu' : 'Ailments - difficulty bending and squatting', \n",
    "    '5. Jakie ma Pan/Pani dolegliwości w związku ze zwyrodnieniem stawów kończyn/kręgosłupa? Można zaznaczyć jedną lub więcej odpowiedzi. - opadanie miednicy po przeciwnej stronie do zajętej zwyrodnieniem' : 'Ailments - pelvic drop on the side opposite to the affected side', \n",
    "    '5. Jakie ma Pan/Pani dolegliwości w związku ze zwyrodnieniem stawów kończyn/kręgosłupa? Można zaznaczyć jedną lub więcej odpowiedzi. - niestabilność stawu' : 'Ailments - joint instability', \n",
    "    '5. Jakie ma Pan/Pani dolegliwości w związku ze zwyrodnieniem stawów kończyn/kręgosłupa? Można zaznaczyć jedną lub więcej odpowiedzi. - tkliwość' : 'Ailments - tenderness', \n",
    "    '5. Jakie ma Pan/Pani dolegliwości w związku ze zwyrodnieniem stawów kończyn/kręgosłupa? Można zaznaczyć jedną lub więcej odpowiedzi. - trzeszczenie w stawie' : 'Ailments - joint crepitus', \n",
    "    '5. Jakie ma Pan/Pani dolegliwości w związku ze zwyrodnieniem stawów kończyn/kręgosłupa? Można zaznaczyć jedną lub więcej odpowiedzi. - poszerzenie i zniekształcenie obrysów stawów' : 'Ailments - widening and distortion of the outlines of the joints', \n",
    "    '5. Jakie ma Pan/Pani dolegliwości w związku ze zwyrodnieniem stawów kończyn/kręgosłupa? Można zaznaczyć jedną lub więcej odpowiedzi. - obrzęk stawu' : 'Ailments - joint swelling', \n",
    "    '5. Jakie ma Pan/Pani dolegliwości w związku ze zwyrodnieniem stawów kończyn/kręgosłupa? Można zaznaczyć jedną lub więcej odpowiedzi. - trudności w wykonywaniu palcami czynności precyzyjnych' : 'Ailments - difficulty performing precise activities with your fingers', \n",
    "    '5. Jakie ma Pan/Pani dolegliwości w związku ze zwyrodnieniem stawów kończyn/kręgosłupa? Można zaznaczyć jedną lub więcej odpowiedzi. - utykanie' : 'Ailments - limping', \n",
    "    '5. Jakie ma Pan/Pani dolegliwości w związku ze zwyrodnieniem stawów kończyn/kręgosłupa? Można zaznaczyć jedną lub więcej odpowiedzi. - pogorszenie jakości chodu' : 'Ailments - deterioration in the quality of gait', \n",
    "    '6. Czy w rodzinie Pana/Pani występowała choroba zwyrodnieniowa stawów kończyn/ kręgosłupa?' : 'Family history with osteoarthisis',\n",
    "    '7. Czy porusza się Pan/Pani samodzielnie? ' : 'Moving independently',\n",
    "    '8. Czy używa Pan/Pani sprzętu pomocniczego?' : 'Use of assistive equipment',\n",
    "    '9. Czy przed leczeniem uzdrowiskowym, choroba zwyrodnieniowa ograniczała Pana/Pani możliwości wykonywania czynności życia codziennego takich jak: - Wykonywanie toalety ciała, kąpieli' : 'Performing body toilet, bathing',\n",
    "    '9. Czy przed leczeniem uzdrowiskowym, choroba zwyrodnieniowa ograniczała Pana/Pani możliwości wykonywania czynności życia codziennego takich jak: - Ubieranie się' : 'Dressing',\n",
    "    '9. Czy przed leczeniem uzdrowiskowym, choroba zwyrodnieniowa ograniczała Pana/Pani możliwości wykonywania czynności życia codziennego takich jak: - Sprzątanie' : 'Cleaning',\n",
    "    '9. Czy przed leczeniem uzdrowiskowym, choroba zwyrodnieniowa ograniczała Pana/Pani możliwości wykonywania czynności życia codziennego takich jak: - Podnoszenie lub dźwiganie ciężkich przedmiotów np. Zakupów' : 'Lifting or carrying heavy items', \n",
    "    '9. Czy przed leczeniem uzdrowiskowym, choroba zwyrodnieniowa ograniczała Pana/Pani możliwości wykonywania czynności życia codziennego takich jak: - Wchodzenie po schodach na wysokość jednego piętra' : 'Climbing stairs up to one floor',\n",
    "    '9. Czy przed leczeniem uzdrowiskowym, choroba zwyrodnieniowa ograniczała Pana/Pani możliwości wykonywania czynności życia codziennego takich jak: - Wchodzenie po schodach na wysokość drugiego piętra' : 'Climbing stairs up to second floor',\n",
    "    '9. Czy przed leczeniem uzdrowiskowym, choroba zwyrodnieniowa ograniczała Pana/Pani możliwości wykonywania czynności życia codziennego takich jak: - Schodzenie po schodach' : 'Going down the stairs',\n",
    "    '9. Czy przed leczeniem uzdrowiskowym, choroba zwyrodnieniowa ograniczała Pana/Pani możliwości wykonywania czynności życia codziennego takich jak: - Schylanie się lub kucanie' : 'Bending or crouching',\n",
    "    '9. Czy przed leczeniem uzdrowiskowym, choroba zwyrodnieniowa ograniczała Pana/Pani możliwości wykonywania czynności życia codziennego takich jak: - Spacer około 100 metrów' : 'Walk about 100 meters',\n",
    "    '9. Czy przed leczeniem uzdrowiskowym, choroba zwyrodnieniowa ograniczała Pana/Pani możliwości wykonywania czynności życia codziennego takich jak: - Spacer około 500 metrów' : 'Walk about 500 meters', \n",
    "    '9. Czy przed leczeniem uzdrowiskowym, choroba zwyrodnieniowa ograniczała Pana/Pani możliwości wykonywania czynności życia codziennego takich jak: - Spacer powyżej 1 kilometra' : 'Walk above 1000 meters',\n",
    "    '9. Czy przed leczeniem uzdrowiskowym, choroba zwyrodnieniowa ograniczała Pana/Pani możliwości wykonywania czynności życia codziennego takich jak: - Jazda na rowerze' : 'Cycling',\n",
    "    '9. Czy przed leczeniem uzdrowiskowym, choroba zwyrodnieniowa ograniczała Pana/Pani możliwości wykonywania czynności życia codziennego takich jak: - Realizacja własnych zainteresowań' : 'Pursuing your own interests',\n",
    "    '10. Jeżeli w pytaniu piątym zaznaczył Pan/Pani ból jako jedną z dolegliwości choroby zwyrodnieniowej, to jak często w ciągu ostatniego miesiąca występował? ' : 'How often did pain occur in last month',\n",
    "    '11. Czy w ciągu ostatniego miesiąca ból zakłócał Pana/Pani funkcjonowanie w życiu codziennym? ' : 'Pain disturbed everyday life',\n",
    "    '12. Jak często z powodu dolegliwości bólowych był Pan/Pani zmuszony zażywać leki przeciwbólowe? ' : 'Does pain forced to use of painkillers',\n",
    "    '13. Czy choroba zwyrodnieniowa wpłynęła na Pana/Pani pracę zawodową? ' : 'Does osteoarthritis affected your professional work',\n",
    "    '14. Czy przed chorobą uprawiał Pan/Pani jakiś sport, aktywność rekreacyjną? ' : 'Did you practice any sports or recreational activities before your illness',\n",
    "    '15. Czy w związku z chorobą zwyrodnieniową był Pan/Pani zmuszony zrezygnować z: ' : 'Forced to give up',\n",
    "    '16. Czy choroba zwyrodnieniowa wywołuje u Pana/Pani zaburzenia emocjonalne takie jak: ' : 'Emotional disturbances',\n",
    "    '17. Czy stosował Pan/Pani do tej pory jakąś terapię w związku z chorobą zwyrodnieniową? Jeżeli tak, to jaką? Można zaznaczyć jedną lub więcej odpowiedzi. - farmakologiczną (blokady bezpośrednio do stawów)' : 'Therapy - pharmacological',\n",
    "    '17. Czy stosował Pan/Pani do tej pory jakąś terapię w związku z chorobą zwyrodnieniową? Jeżeli tak, to jaką? Można zaznaczyć jedną lub więcej odpowiedzi. - niefarmakologiczną (ciepłe lub chłodne okłady, ćwiczenia)' : 'Therapy - non-pharmacological', \n",
    "    '17. Czy stosował Pan/Pani do tej pory jakąś terapię w związku z chorobą zwyrodnieniową? Jeżeli tak, to jaką? Można zaznaczyć jedną lub więcej odpowiedzi. - chirurgiczną (endoprotezoplastyka stawu biodrowego, kolanowego)' : 'Therapy - surgical', \n",
    "    '17. Czy stosował Pan/Pani do tej pory jakąś terapię w związku z chorobą zwyrodnieniową? Jeżeli tak, to jaką? Można zaznaczyć jedną lub więcej odpowiedzi. - dietę - pozwalającą utrzymać optymalną masę ciała' : 'Therapy - diet', \n",
    "    '19. Czy korzysta Pan/Pani chętnie z zabiegów i ćwiczeń oferowanych w leczeniu uzdrowiskowym?' : 'Take advantage of the treatments and exercises offered during spa treatment',\n",
    "    '20. Czy w trakcie leczenia uzdrowiskowego następuje u Pana/Pani poprawa sprawności fizycznej? ' : 'Does your physical fitness improve during spa treatment?', \n",
    "    '22. Czy według Pana/Pani zastosowane metody leczenia w trakcie pobytu uzdrowiskowego pozwoliły ograniczyć zażywane leki przeciwbólowe? ' : 'Did the treatment methods used during your spa stay help you reduce the amount of painkillers you take',\n",
    "    '23. Czy panujący w uzdrowisku mikroklimat wpłynął na poprawę Pana/Pani stanu zdrowia?' : 'Microclimate',\n",
    "    '24. Czy kompleksowa opieka uzdrowiskowa wpłynęła na poprawę Pana/Pani samopoczucia psychicznego? (np. zmniejszając lęk i niepokój związany z chorobą) ' : 'Comprehensive spa care improved your mental well-being',\n",
    "    '25. Jak ocenia Pan/Pani swój stan zdrowia obecnie, porównując go do okresu przed przyjazdem do uzdrowiska? ' : 'How do you assess your health condition now',\n",
    "    '26. Czy pobyt na leczeniu uzdrowiskowym poprawił Pana/Pani jakość życia?' : 'Did your spa treatment improve your quality of life',\n",
    "    '27. Jak bardzo jest Panu/Pani potrzebne leczenie uzdrowiskowe, aby dobrze funkcjonować w życiu codziennym?' : 'Do you need spa treatment in your life'  \n",
    "}"
   ]
  },
  {
   "cell_type": "code",
   "execution_count": 85,
   "id": "33667849",
   "metadata": {},
   "outputs": [],
   "source": [
    "dataframe = dataframe.rename(columns=mapper)"
   ]
  },
  {
   "cell_type": "code",
   "execution_count": 86,
   "id": "b3574182",
   "metadata": {},
   "outputs": [],
   "source": [
    "columns_to_drop = ['Stan cywilny', 'Wykształcenie', 'Miejsce zamieszkania', '1. Proszę podać ilość pobytów Pana/Pani na leczeniu uzdrowiskowym. ', 'Do you need spa treatment in your life', 'Did your spa treatment improve your quality of life', 'Comprehensive spa care improved your mental well-being', 'Microclimate', 'Did the treatment methods used during your spa stay help you reduce the amount of painkillers you take', 'Does your physical fitness improve during spa treatment?', 'Take advantage of the treatments and exercises offered during spa treatment', 'How do you assess your health condition now']"
   ]
  },
  {
   "cell_type": "code",
   "execution_count": 87,
   "id": "82506bb5",
   "metadata": {},
   "outputs": [],
   "source": [
    "dataframe = dataframe.drop(columns=columns_to_drop)"
   ]
  },
  {
   "cell_type": "markdown",
   "id": "52331f7b",
   "metadata": {},
   "source": [
    "First row needs to be removed since it's NAN values only."
   ]
  },
  {
   "cell_type": "code",
   "execution_count": 88,
   "id": "a765e832",
   "metadata": {},
   "outputs": [],
   "source": [
    "dataframe.drop(dataframe.index[0:1], inplace=True)"
   ]
  },
  {
   "cell_type": "code",
   "execution_count": 89,
   "id": "a8d83c9b",
   "metadata": {},
   "outputs": [],
   "source": [
    "dataframe = dataframe.fillna(0) "
   ]
  },
  {
   "cell_type": "markdown",
   "id": "e561f137",
   "metadata": {},
   "source": [
    "#### Changing values of rows:"
   ]
  },
  {
   "cell_type": "markdown",
   "id": "14574318",
   "metadata": {},
   "source": [
    "Gender"
   ]
  },
  {
   "cell_type": "code",
   "execution_count": 90,
   "id": "931fd3a0",
   "metadata": {},
   "outputs": [],
   "source": [
    "gender_mapper = {\n",
    "    'kobieta': 'woman',\n",
    "    'mężczyzna': 'man'\n",
    "}\n",
    "dataframe['Gender'] = dataframe['Gender'].replace(gender_mapper)"
   ]
  },
  {
   "cell_type": "markdown",
   "id": "082254fc",
   "metadata": {},
   "source": [
    "Work type"
   ]
  },
  {
   "cell_type": "code",
   "execution_count": 91,
   "id": "a52d2809",
   "metadata": {},
   "outputs": [],
   "source": [
    "work_mapper = {\n",
    "    'nie pracuję': 'do not work',\n",
    "    'fizyczna': 'physical',\n",
    "    'mieszana' : 'mixed',\n",
    "    'umysłowa' : 'headwork'\n",
    "}\n",
    "dataframe['Work type'] = dataframe['Work type'].replace(work_mapper)"
   ]
  },
  {
   "cell_type": "code",
   "execution_count": 92,
   "id": "0fbf5580",
   "metadata": {},
   "outputs": [
    {
     "name": "stdout",
     "output_type": "stream",
     "text": [
      "['Gender', 'Age', 'Weight', 'Height', 'BMI', 'Work type', 'Shoulder osteoarthritis', 'Hand osteoarthritis', 'Hip joint osteoarthritis', 'Knee osteoarthritis', 'Feet osteoarthritis', 'Spine osteoarthritis', 'Diagnosis - medical examination and interview', 'Diagnosis - USG', 'Diagnosis - RTG', 'Diagnosis - MRI', 'Diagnosis - CT', 'Diagnosis - fluid from the joint', 'Cause - age', 'Cause - genetics', 'Cause - physical work', 'Cause - sedentary lifestyle', 'Cause - little physical activity', 'Cause - obesity', 'Cause - injuries', 'Cause - competitive sports', 'Cause - joint instability', 'Cause - joint inflammation', 'Cause - knock knees', 'Cause - spinal curvature', 'Cause - comorbidities', 'Ailments - pain', 'Ailments - limitation of mobility', 'Ailments - impairment of rotation and abduction in the joint', 'Ailments - stiffness in the joint', 'Ailments - difficulty bending and squatting', 'Ailments - pelvic drop on the side opposite to the affected side', 'Ailments - joint instability', 'Ailments - tenderness', 'Ailments - joint crepitus', 'Ailments - widening and distortion of the outlines of the joints', 'Ailments - joint swelling', 'Ailments - difficulty performing precise activities with your fingers', 'Ailments - limping', 'Ailments - deterioration in the quality of gait', 'Family history with osteoarthisis', 'Moving independently', 'Use of assistive equipment', 'Performing body toilet, bathing', 'Dressing', 'Cleaning', 'Lifting or carrying heavy items', 'Climbing stairs up to one floor', 'Climbing stairs up to second floor', 'Going down the stairs', 'Bending or crouching', 'Walk about 100 meters', 'Walk about 500 meters', 'Walk above 1000 meters', 'Cycling', 'Pursuing your own interests', 'How often did pain occur in last month', 'Pain disturbed everyday life', 'Does pain forced to use of painkillers', 'Does osteoarthritis affected your professional work', 'Did you practice any sports or recreational activities before your illness', 'Forced to give up', 'Emotional disturbances', 'Therapy - pharmacological', 'Therapy - non-pharmacological', 'Therapy - surgical', 'Therapy - diet']\n"
     ]
    }
   ],
   "source": [
    "print(dataframe.columns.tolist())"
   ]
  },
  {
   "cell_type": "code",
   "execution_count": 93,
   "id": "90b9ae3c",
   "metadata": {},
   "outputs": [
    {
     "data": {
      "text/html": [
       "<div>\n",
       "<style scoped>\n",
       "    .dataframe tbody tr th:only-of-type {\n",
       "        vertical-align: middle;\n",
       "    }\n",
       "\n",
       "    .dataframe tbody tr th {\n",
       "        vertical-align: top;\n",
       "    }\n",
       "\n",
       "    .dataframe thead th {\n",
       "        text-align: right;\n",
       "    }\n",
       "</style>\n",
       "<table border=\"1\" class=\"dataframe\">\n",
       "  <thead>\n",
       "    <tr style=\"text-align: right;\">\n",
       "      <th></th>\n",
       "      <th>Gender</th>\n",
       "      <th>Age</th>\n",
       "      <th>Weight</th>\n",
       "      <th>Height</th>\n",
       "      <th>BMI</th>\n",
       "      <th>Work type</th>\n",
       "      <th>Shoulder osteoarthritis</th>\n",
       "      <th>Hand osteoarthritis</th>\n",
       "      <th>Hip joint osteoarthritis</th>\n",
       "      <th>Knee osteoarthritis</th>\n",
       "      <th>...</th>\n",
       "      <th>Pain disturbed everyday life</th>\n",
       "      <th>Does pain forced to use of painkillers</th>\n",
       "      <th>Does osteoarthritis affected your professional work</th>\n",
       "      <th>Did you practice any sports or recreational activities before your illness</th>\n",
       "      <th>Forced to give up</th>\n",
       "      <th>Emotional disturbances</th>\n",
       "      <th>Therapy - pharmacological</th>\n",
       "      <th>Therapy - non-pharmacological</th>\n",
       "      <th>Therapy - surgical</th>\n",
       "      <th>Therapy - diet</th>\n",
       "    </tr>\n",
       "  </thead>\n",
       "  <tbody>\n",
       "    <tr>\n",
       "      <th>1</th>\n",
       "      <td>woman</td>\n",
       "      <td>55.0</td>\n",
       "      <td>83.0</td>\n",
       "      <td>173.0</td>\n",
       "      <td>27.732300</td>\n",
       "      <td>physical</td>\n",
       "      <td>1.0</td>\n",
       "      <td>0.0</td>\n",
       "      <td>0.0</td>\n",
       "      <td>0.0</td>\n",
       "      <td>...</td>\n",
       "      <td>trochę</td>\n",
       "      <td>często</td>\n",
       "      <td>miałem/am trudności w wykonywaniu pracy</td>\n",
       "      <td>tak</td>\n",
       "      <td>aktywności rekreacyjnej</td>\n",
       "      <td>bezradność</td>\n",
       "      <td>0</td>\n",
       "      <td>1.0</td>\n",
       "      <td>0.0</td>\n",
       "      <td>0.0</td>\n",
       "    </tr>\n",
       "    <tr>\n",
       "      <th>2</th>\n",
       "      <td>woman</td>\n",
       "      <td>79.0</td>\n",
       "      <td>66.0</td>\n",
       "      <td>164.0</td>\n",
       "      <td>24.538965</td>\n",
       "      <td>headwork</td>\n",
       "      <td>1.0</td>\n",
       "      <td>1.0</td>\n",
       "      <td>0.0</td>\n",
       "      <td>0.0</td>\n",
       "      <td>...</td>\n",
       "      <td>bardzo</td>\n",
       "      <td>czasami</td>\n",
       "      <td>miałem/am trudności w wykonywaniu pracy</td>\n",
       "      <td>tak</td>\n",
       "      <td>aktywności rekreacyjnej</td>\n",
       "      <td>nerwowość</td>\n",
       "      <td>1</td>\n",
       "      <td>0.0</td>\n",
       "      <td>0.0</td>\n",
       "      <td>0.0</td>\n",
       "    </tr>\n",
       "    <tr>\n",
       "      <th>3</th>\n",
       "      <td>woman</td>\n",
       "      <td>74.0</td>\n",
       "      <td>105.0</td>\n",
       "      <td>164.0</td>\n",
       "      <td>39.039262</td>\n",
       "      <td>do not work</td>\n",
       "      <td>0.0</td>\n",
       "      <td>0.0</td>\n",
       "      <td>0.0</td>\n",
       "      <td>1.0</td>\n",
       "      <td>...</td>\n",
       "      <td>trochę</td>\n",
       "      <td>bardzo często</td>\n",
       "      <td>nie wpłynęła na moją pracę</td>\n",
       "      <td>nie</td>\n",
       "      <td>dłuższych spacerów niż 1 km</td>\n",
       "      <td>niepokój</td>\n",
       "      <td>0</td>\n",
       "      <td>1.0</td>\n",
       "      <td>0.0</td>\n",
       "      <td>0.0</td>\n",
       "    </tr>\n",
       "    <tr>\n",
       "      <th>4</th>\n",
       "      <td>woman</td>\n",
       "      <td>73.0</td>\n",
       "      <td>73.0</td>\n",
       "      <td>161.0</td>\n",
       "      <td>28.162494</td>\n",
       "      <td>headwork</td>\n",
       "      <td>0.0</td>\n",
       "      <td>1.0</td>\n",
       "      <td>0.0</td>\n",
       "      <td>1.0</td>\n",
       "      <td>...</td>\n",
       "      <td>trochę</td>\n",
       "      <td>czasami</td>\n",
       "      <td>nie wpłynęła na moją pracę</td>\n",
       "      <td>nie</td>\n",
       "      <td>nie musiałem/am rezygnować z niczego</td>\n",
       "      <td>nie występują</td>\n",
       "      <td>1</td>\n",
       "      <td>0.0</td>\n",
       "      <td>1.0</td>\n",
       "      <td>0.0</td>\n",
       "    </tr>\n",
       "    <tr>\n",
       "      <th>5</th>\n",
       "      <td>woman</td>\n",
       "      <td>63.0</td>\n",
       "      <td>73.0</td>\n",
       "      <td>159.0</td>\n",
       "      <td>28.875440</td>\n",
       "      <td>headwork</td>\n",
       "      <td>1.0</td>\n",
       "      <td>0.0</td>\n",
       "      <td>0.0</td>\n",
       "      <td>1.0</td>\n",
       "      <td>...</td>\n",
       "      <td>trochę</td>\n",
       "      <td>często</td>\n",
       "      <td>miałem/am trudności w wykonywaniu pracy</td>\n",
       "      <td>tak</td>\n",
       "      <td>uprawiania sportu</td>\n",
       "      <td>niepokój</td>\n",
       "      <td>0</td>\n",
       "      <td>1.0</td>\n",
       "      <td>0.0</td>\n",
       "      <td>0.0</td>\n",
       "    </tr>\n",
       "  </tbody>\n",
       "</table>\n",
       "<p>5 rows × 72 columns</p>\n",
       "</div>"
      ],
      "text/plain": [
       "  Gender   Age  Weight  Height        BMI    Work type  \\\n",
       "1  woman  55.0    83.0   173.0  27.732300     physical   \n",
       "2  woman  79.0    66.0   164.0  24.538965     headwork   \n",
       "3  woman  74.0   105.0   164.0  39.039262  do not work   \n",
       "4  woman  73.0    73.0   161.0  28.162494     headwork   \n",
       "5  woman  63.0    73.0   159.0  28.875440     headwork   \n",
       "\n",
       "   Shoulder osteoarthritis  Hand osteoarthritis  Hip joint osteoarthritis  \\\n",
       "1                      1.0                  0.0                       0.0   \n",
       "2                      1.0                  1.0                       0.0   \n",
       "3                      0.0                  0.0                       0.0   \n",
       "4                      0.0                  1.0                       0.0   \n",
       "5                      1.0                  0.0                       0.0   \n",
       "\n",
       "   Knee osteoarthritis  ...  Pain disturbed everyday life  \\\n",
       "1                  0.0  ...                        trochę   \n",
       "2                  0.0  ...                        bardzo   \n",
       "3                  1.0  ...                        trochę   \n",
       "4                  1.0  ...                        trochę   \n",
       "5                  1.0  ...                        trochę   \n",
       "\n",
       "   Does pain forced to use of painkillers  \\\n",
       "1                                  często   \n",
       "2                                 czasami   \n",
       "3                           bardzo często   \n",
       "4                                 czasami   \n",
       "5                                  często   \n",
       "\n",
       "   Does osteoarthritis affected your professional work  \\\n",
       "1            miałem/am trudności w wykonywaniu pracy     \n",
       "2            miałem/am trudności w wykonywaniu pracy     \n",
       "3                         nie wpłynęła na moją pracę     \n",
       "4                         nie wpłynęła na moją pracę     \n",
       "5            miałem/am trudności w wykonywaniu pracy     \n",
       "\n",
       "   Did you practice any sports or recreational activities before your illness  \\\n",
       "1                                                tak                            \n",
       "2                                                tak                            \n",
       "3                                                nie                            \n",
       "4                                                nie                            \n",
       "5                                                tak                            \n",
       "\n",
       "                      Forced to give up  Emotional disturbances  \\\n",
       "1               aktywności rekreacyjnej              bezradność   \n",
       "2               aktywności rekreacyjnej               nerwowość   \n",
       "3           dłuższych spacerów niż 1 km                niepokój   \n",
       "4  nie musiałem/am rezygnować z niczego           nie występują   \n",
       "5                     uprawiania sportu                niepokój   \n",
       "\n",
       "   Therapy - pharmacological  Therapy - non-pharmacological  \\\n",
       "1                          0                            1.0   \n",
       "2                          1                            0.0   \n",
       "3                          0                            1.0   \n",
       "4                          1                            0.0   \n",
       "5                          0                            1.0   \n",
       "\n",
       "   Therapy - surgical  Therapy - diet  \n",
       "1                 0.0             0.0  \n",
       "2                 0.0             0.0  \n",
       "3                 0.0             0.0  \n",
       "4                 1.0             0.0  \n",
       "5                 0.0             0.0  \n",
       "\n",
       "[5 rows x 72 columns]"
      ]
     },
     "execution_count": 93,
     "metadata": {},
     "output_type": "execute_result"
    }
   ],
   "source": [
    "dataframe.head()"
   ]
  },
  {
   "cell_type": "code",
   "execution_count": 94,
   "id": "6b3788bc",
   "metadata": {},
   "outputs": [
    {
     "name": "stderr",
     "output_type": "stream",
     "text": [
      "C:\\Users\\micha\\AppData\\Local\\Temp\\ipykernel_6488\\4230047734.py:12: FutureWarning: Downcasting behavior in `replace` is deprecated and will be removed in a future version. To retain the old behavior, explicitly call `result.infer_objects(copy=False)`. To opt-in to the future behavior, set `pd.set_option('future.no_silent_downcasting', True)`\n",
      "  dataframe[metric] = dataframe[metric].replace(metrics_mapper)\n"
     ]
    }
   ],
   "source": [
    "metrics_list = ['Performing body toilet, bathing', 'Dressing', 'Cleaning', 'Lifting or carrying heavy items', 'Climbing stairs up to one floor', 'Climbing stairs up to second floor', 'Going down the stairs', 'Bending or crouching', 'Walk about 100 meters', 'Walk about 500 meters', 'Walk above 1000 meters', 'Cycling', 'Pursuing your own interests']\n",
    "\n",
    "metrics_mapper = {\n",
    "    'Trochę ograniczała' : 1,\n",
    "    'Nie ograniczała' : 0,\n",
    "    'Ograniczała' : 2,\n",
    "    'Bardzo ograniczała' : 3,\n",
    "    'Nie mam zdania' : 'No opinion'\n",
    "}\n",
    "\n",
    "for metric in metrics_list:\n",
    "    dataframe[metric] = dataframe[metric].replace(metrics_mapper)"
   ]
  },
  {
   "cell_type": "code",
   "execution_count": 95,
   "id": "b99be07e",
   "metadata": {},
   "outputs": [
    {
     "name": "stderr",
     "output_type": "stream",
     "text": [
      "C:\\Users\\micha\\AppData\\Local\\Temp\\ipykernel_6488\\1645527387.py:8: FutureWarning: Downcasting behavior in `replace` is deprecated and will be removed in a future version. To retain the old behavior, explicitly call `result.infer_objects(copy=False)`. To opt-in to the future behavior, set `pd.set_option('future.no_silent_downcasting', True)`\n",
      "  dataframe['How often did pain occur in last month'] = dataframe['How often did pain occur in last month'].replace(occurence_mapper)\n"
     ]
    }
   ],
   "source": [
    "occurence_mapper = {\n",
    "    'często' : 3,\n",
    "    'bardzo często' : 4,\n",
    "    'rzadko' : 2,\n",
    "    'bardzo rzadko' : 1,\n",
    "    'nigdy' : 0\n",
    "}\n",
    "dataframe['How often did pain occur in last month'] = dataframe['How often did pain occur in last month'].replace(occurence_mapper)"
   ]
  },
  {
   "cell_type": "code",
   "execution_count": 96,
   "id": "39017af3",
   "metadata": {},
   "outputs": [
    {
     "name": "stderr",
     "output_type": "stream",
     "text": [
      "C:\\Users\\micha\\AppData\\Local\\Temp\\ipykernel_6488\\498026982.py:7: FutureWarning: Downcasting behavior in `replace` is deprecated and will be removed in a future version. To retain the old behavior, explicitly call `result.infer_objects(copy=False)`. To opt-in to the future behavior, set `pd.set_option('future.no_silent_downcasting', True)`\n",
      "  dataframe['Pain disturbed everyday life'] = dataframe['Pain disturbed everyday life'].replace(disturb_mapper)\n"
     ]
    }
   ],
   "source": [
    "disturb_mapper = {\n",
    "    'trochę' : 1,\n",
    "    'bardzo' : 3,\n",
    "    'średnio' : 2,\n",
    "    'wcale' : 0\n",
    "}\n",
    "dataframe['Pain disturbed everyday life'] = dataframe['Pain disturbed everyday life'].replace(disturb_mapper)"
   ]
  },
  {
   "cell_type": "code",
   "execution_count": 97,
   "id": "2c6d699b",
   "metadata": {},
   "outputs": [
    {
     "name": "stderr",
     "output_type": "stream",
     "text": [
      "C:\\Users\\micha\\AppData\\Local\\Temp\\ipykernel_6488\\1397881469.py:8: FutureWarning: Downcasting behavior in `replace` is deprecated and will be removed in a future version. To retain the old behavior, explicitly call `result.infer_objects(copy=False)`. To opt-in to the future behavior, set `pd.set_option('future.no_silent_downcasting', True)`\n",
      "  dataframe['Does pain forced to use of painkillers'] = dataframe['Does pain forced to use of painkillers'].replace(force_mapper)\n"
     ]
    }
   ],
   "source": [
    "force_mapper = {\n",
    "    'często' : 3,\n",
    "    'bardzo często' : 4,\n",
    "    'rzadko' : 1,\n",
    "    'czasami' : 2,\n",
    "    'nie musiałem/am' : 0\n",
    "}\n",
    "dataframe['Does pain forced to use of painkillers'] = dataframe['Does pain forced to use of painkillers'].replace(force_mapper)"
   ]
  },
  {
   "cell_type": "code",
   "execution_count": 98,
   "id": "ea3131d3",
   "metadata": {},
   "outputs": [],
   "source": [
    "affect_work_mapper = {\n",
    "    'miałem/am trudności w wykonywaniu pracy' : 'difficulties',\n",
    "    'nie wpłynęła na moją pracę' : 'not affected',\n",
    "    'musiałem/am zrezygnować całkowicie z pracy' : 'resign from work',\n",
    "    'musiałem/am skrócić czas pracy' : 'shorten work time',\n",
    "    'musiałem/am zmienić rodzaj pracy' : 'change work type'\n",
    "}\n",
    "dataframe['Does osteoarthritis affected your professional work'] = dataframe['Does osteoarthritis affected your professional work'].replace(affect_work_mapper)"
   ]
  },
  {
   "cell_type": "code",
   "execution_count": 99,
   "id": "150cc7e3",
   "metadata": {},
   "outputs": [],
   "source": [
    "sport_before_mapper = {\n",
    "    'nie' : 'no',\n",
    "    'tak' : 'yes',\n",
    "    'nie ' : 'no'\n",
    "}\n",
    "dataframe['Did you practice any sports or recreational activities before your illness'] = dataframe['Did you practice any sports or recreational activities before your illness'].replace(sport_before_mapper)"
   ]
  },
  {
   "cell_type": "code",
   "execution_count": 100,
   "id": "589a475b",
   "metadata": {},
   "outputs": [],
   "source": [
    "give_up_activity_mapper = {\n",
    "    'aktywności rekreacyjnej' : 'recreational activities',\n",
    "    'dłuższych spacerów niż 1 km' : 'longer walks',\n",
    "    'nie musiałem/am rezygnować z niczego' : 'did not resign',\n",
    "    'uprawiania sportu' : 'doing sports',\n",
    "    'spotkań ze znajomymi' : 'activities with friends'\n",
    "}\n",
    "dataframe['Forced to give up'] = dataframe['Forced to give up'].replace(give_up_activity_mapper)"
   ]
  },
  {
   "cell_type": "code",
   "execution_count": 101,
   "id": "f1bec8ac",
   "metadata": {},
   "outputs": [],
   "source": [
    "emotional_mapper = {\n",
    "    'niepokój' : 'anxiety',\n",
    "    'przygnębienie' : 'depression',\n",
    "    'nie występują' : 'not present',\n",
    "    'bezradność' : 'helplessness',\n",
    "    'nerwowość' : 'nervousness',\n",
    "    'lęk' : 'anxiety',\n",
    "    'płaczliwość' : 'tearfulness'\n",
    "}\n",
    "dataframe['Emotional disturbances'] = dataframe['Emotional disturbances'].replace(emotional_mapper)"
   ]
  },
  {
   "cell_type": "code",
   "execution_count": 102,
   "id": "fc76d082",
   "metadata": {},
   "outputs": [
    {
     "data": {
      "text/html": [
       "<div>\n",
       "<style scoped>\n",
       "    .dataframe tbody tr th:only-of-type {\n",
       "        vertical-align: middle;\n",
       "    }\n",
       "\n",
       "    .dataframe tbody tr th {\n",
       "        vertical-align: top;\n",
       "    }\n",
       "\n",
       "    .dataframe thead th {\n",
       "        text-align: right;\n",
       "    }\n",
       "</style>\n",
       "<table border=\"1\" class=\"dataframe\">\n",
       "  <thead>\n",
       "    <tr style=\"text-align: right;\">\n",
       "      <th></th>\n",
       "      <th>Gender</th>\n",
       "      <th>Age</th>\n",
       "      <th>Weight</th>\n",
       "      <th>Height</th>\n",
       "      <th>BMI</th>\n",
       "      <th>Work type</th>\n",
       "      <th>Shoulder osteoarthritis</th>\n",
       "      <th>Hand osteoarthritis</th>\n",
       "      <th>Hip joint osteoarthritis</th>\n",
       "      <th>Knee osteoarthritis</th>\n",
       "      <th>...</th>\n",
       "      <th>Pain disturbed everyday life</th>\n",
       "      <th>Does pain forced to use of painkillers</th>\n",
       "      <th>Does osteoarthritis affected your professional work</th>\n",
       "      <th>Did you practice any sports or recreational activities before your illness</th>\n",
       "      <th>Forced to give up</th>\n",
       "      <th>Emotional disturbances</th>\n",
       "      <th>Therapy - pharmacological</th>\n",
       "      <th>Therapy - non-pharmacological</th>\n",
       "      <th>Therapy - surgical</th>\n",
       "      <th>Therapy - diet</th>\n",
       "    </tr>\n",
       "  </thead>\n",
       "  <tbody>\n",
       "    <tr>\n",
       "      <th>1</th>\n",
       "      <td>woman</td>\n",
       "      <td>55.0</td>\n",
       "      <td>83.0</td>\n",
       "      <td>173.0</td>\n",
       "      <td>27.732300</td>\n",
       "      <td>physical</td>\n",
       "      <td>1.0</td>\n",
       "      <td>0.0</td>\n",
       "      <td>0.0</td>\n",
       "      <td>0.0</td>\n",
       "      <td>...</td>\n",
       "      <td>1</td>\n",
       "      <td>3</td>\n",
       "      <td>difficulties</td>\n",
       "      <td>yes</td>\n",
       "      <td>recreational activities</td>\n",
       "      <td>helplessness</td>\n",
       "      <td>0</td>\n",
       "      <td>1.0</td>\n",
       "      <td>0.0</td>\n",
       "      <td>0.0</td>\n",
       "    </tr>\n",
       "    <tr>\n",
       "      <th>2</th>\n",
       "      <td>woman</td>\n",
       "      <td>79.0</td>\n",
       "      <td>66.0</td>\n",
       "      <td>164.0</td>\n",
       "      <td>24.538965</td>\n",
       "      <td>headwork</td>\n",
       "      <td>1.0</td>\n",
       "      <td>1.0</td>\n",
       "      <td>0.0</td>\n",
       "      <td>0.0</td>\n",
       "      <td>...</td>\n",
       "      <td>3</td>\n",
       "      <td>2</td>\n",
       "      <td>difficulties</td>\n",
       "      <td>yes</td>\n",
       "      <td>recreational activities</td>\n",
       "      <td>nervousness</td>\n",
       "      <td>1</td>\n",
       "      <td>0.0</td>\n",
       "      <td>0.0</td>\n",
       "      <td>0.0</td>\n",
       "    </tr>\n",
       "    <tr>\n",
       "      <th>3</th>\n",
       "      <td>woman</td>\n",
       "      <td>74.0</td>\n",
       "      <td>105.0</td>\n",
       "      <td>164.0</td>\n",
       "      <td>39.039262</td>\n",
       "      <td>do not work</td>\n",
       "      <td>0.0</td>\n",
       "      <td>0.0</td>\n",
       "      <td>0.0</td>\n",
       "      <td>1.0</td>\n",
       "      <td>...</td>\n",
       "      <td>1</td>\n",
       "      <td>4</td>\n",
       "      <td>not affected</td>\n",
       "      <td>no</td>\n",
       "      <td>longer walks</td>\n",
       "      <td>anxiety</td>\n",
       "      <td>0</td>\n",
       "      <td>1.0</td>\n",
       "      <td>0.0</td>\n",
       "      <td>0.0</td>\n",
       "    </tr>\n",
       "    <tr>\n",
       "      <th>4</th>\n",
       "      <td>woman</td>\n",
       "      <td>73.0</td>\n",
       "      <td>73.0</td>\n",
       "      <td>161.0</td>\n",
       "      <td>28.162494</td>\n",
       "      <td>headwork</td>\n",
       "      <td>0.0</td>\n",
       "      <td>1.0</td>\n",
       "      <td>0.0</td>\n",
       "      <td>1.0</td>\n",
       "      <td>...</td>\n",
       "      <td>1</td>\n",
       "      <td>2</td>\n",
       "      <td>not affected</td>\n",
       "      <td>no</td>\n",
       "      <td>did not resign</td>\n",
       "      <td>not present</td>\n",
       "      <td>1</td>\n",
       "      <td>0.0</td>\n",
       "      <td>1.0</td>\n",
       "      <td>0.0</td>\n",
       "    </tr>\n",
       "    <tr>\n",
       "      <th>5</th>\n",
       "      <td>woman</td>\n",
       "      <td>63.0</td>\n",
       "      <td>73.0</td>\n",
       "      <td>159.0</td>\n",
       "      <td>28.875440</td>\n",
       "      <td>headwork</td>\n",
       "      <td>1.0</td>\n",
       "      <td>0.0</td>\n",
       "      <td>0.0</td>\n",
       "      <td>1.0</td>\n",
       "      <td>...</td>\n",
       "      <td>1</td>\n",
       "      <td>3</td>\n",
       "      <td>difficulties</td>\n",
       "      <td>yes</td>\n",
       "      <td>doing sports</td>\n",
       "      <td>anxiety</td>\n",
       "      <td>0</td>\n",
       "      <td>1.0</td>\n",
       "      <td>0.0</td>\n",
       "      <td>0.0</td>\n",
       "    </tr>\n",
       "  </tbody>\n",
       "</table>\n",
       "<p>5 rows × 72 columns</p>\n",
       "</div>"
      ],
      "text/plain": [
       "  Gender   Age  Weight  Height        BMI    Work type  \\\n",
       "1  woman  55.0    83.0   173.0  27.732300     physical   \n",
       "2  woman  79.0    66.0   164.0  24.538965     headwork   \n",
       "3  woman  74.0   105.0   164.0  39.039262  do not work   \n",
       "4  woman  73.0    73.0   161.0  28.162494     headwork   \n",
       "5  woman  63.0    73.0   159.0  28.875440     headwork   \n",
       "\n",
       "   Shoulder osteoarthritis  Hand osteoarthritis  Hip joint osteoarthritis  \\\n",
       "1                      1.0                  0.0                       0.0   \n",
       "2                      1.0                  1.0                       0.0   \n",
       "3                      0.0                  0.0                       0.0   \n",
       "4                      0.0                  1.0                       0.0   \n",
       "5                      1.0                  0.0                       0.0   \n",
       "\n",
       "   Knee osteoarthritis  ...  Pain disturbed everyday life  \\\n",
       "1                  0.0  ...                             1   \n",
       "2                  0.0  ...                             3   \n",
       "3                  1.0  ...                             1   \n",
       "4                  1.0  ...                             1   \n",
       "5                  1.0  ...                             1   \n",
       "\n",
       "   Does pain forced to use of painkillers  \\\n",
       "1                                       3   \n",
       "2                                       2   \n",
       "3                                       4   \n",
       "4                                       2   \n",
       "5                                       3   \n",
       "\n",
       "   Does osteoarthritis affected your professional work  \\\n",
       "1                                       difficulties     \n",
       "2                                       difficulties     \n",
       "3                                       not affected     \n",
       "4                                       not affected     \n",
       "5                                       difficulties     \n",
       "\n",
       "   Did you practice any sports or recreational activities before your illness  \\\n",
       "1                                                yes                            \n",
       "2                                                yes                            \n",
       "3                                                 no                            \n",
       "4                                                 no                            \n",
       "5                                                yes                            \n",
       "\n",
       "         Forced to give up  Emotional disturbances  Therapy - pharmacological  \\\n",
       "1  recreational activities            helplessness                          0   \n",
       "2  recreational activities             nervousness                          1   \n",
       "3             longer walks                 anxiety                          0   \n",
       "4           did not resign             not present                          1   \n",
       "5             doing sports                 anxiety                          0   \n",
       "\n",
       "   Therapy - non-pharmacological  Therapy - surgical  Therapy - diet  \n",
       "1                            1.0                 0.0             0.0  \n",
       "2                            0.0                 0.0             0.0  \n",
       "3                            1.0                 0.0             0.0  \n",
       "4                            0.0                 1.0             0.0  \n",
       "5                            1.0                 0.0             0.0  \n",
       "\n",
       "[5 rows x 72 columns]"
      ]
     },
     "execution_count": 102,
     "metadata": {},
     "output_type": "execute_result"
    }
   ],
   "source": [
    "dataframe.head()"
   ]
  },
  {
   "cell_type": "code",
   "execution_count": 103,
   "id": "729ac459",
   "metadata": {},
   "outputs": [],
   "source": [
    "def generate_healthy_patient(df):\n",
    "\n",
    "    gender = random.choice(['woman', 'men'])\n",
    "    age = random.randint(18, 80)\n",
    "\n",
    "    if gender == 'woman':\n",
    "        height = random.randint(150, 175)\n",
    "    else:\n",
    "        height = random.randint(160, 190)\n",
    "\n",
    "    height_m = height / 100 \n",
    "    bmi_target = random.uniform(19, 24.5)\n",
    "    weight = round(bmi_target * (height_m ** 2))\n",
    "\n",
    "    work_type = random.choice(['do not work', 'physical', 'mixed', 'headwork'])\n",
    "\n",
    "    columns_to_change = ['Performing body toilet, bathing','Dressing', 'Cleaning', 'Lifting or carrying heavy items', 'Climbing stairs up to one floor', 'Climbing stairs up to second floor', 'Going down the stairs', 'Bending or crouching', 'Walk about 100 meters', 'Walk about 500 meters', 'Walk above 1000 meters', 'Cycling', 'Pursuing your own interests']\n",
    "\n",
    "    difficulties_dict = {}\n",
    "\n",
    "    for column in columns_to_change:\n",
    "        difficulties_dict[column] = random.choice([0, 1, 'No opinion'])\n",
    "\n",
    "    healthy_patient = {\n",
    "        'Gender': gender,\n",
    "        'Age': age,\n",
    "        'Weight': weight,\n",
    "        'Height': height,\n",
    "        'BMI': bmi_target,\n",
    "        'Work type': work_type,\n",
    "        **{col: 0 for col in df.columns if 'Diagnosis' in col or 'Cause' in col or 'Ailments' in col},\n",
    "        'Family history with osteoarthisis': 'no',\n",
    "        'Moving independently': 'yes',\n",
    "        'Use of assistive equipment': 'no',\n",
    "        'Performing body toilet, bathing': difficulties_dict['Performing body toilet, bathing'],\n",
    "        'Dressing': difficulties_dict['Dressing'],\n",
    "        'Cleaning': difficulties_dict['Cleaning'],\n",
    "        'Lifting or carrying heavy items': difficulties_dict['Lifting or carrying heavy items'],\n",
    "        'Climbing stairs up to one floor': difficulties_dict['Climbing stairs up to one floor'],\n",
    "        'Climbing stairs up to second floor': difficulties_dict['Climbing stairs up to second floor'],\n",
    "        'Going down the stairs': difficulties_dict['Going down the stairs'],\n",
    "        'Bending or crouching': difficulties_dict['Bending or crouching'],\n",
    "        'Walk about 100 meters': difficulties_dict['Walk about 100 meters'],\n",
    "        'Walk about 500 meters': difficulties_dict['Walk about 500 meters'],\n",
    "        'Walk above 1000 meters': difficulties_dict['Walk above 1000 meters'],\n",
    "        'Cycling': difficulties_dict['Cycling'],\n",
    "        'Pursuing your own interests': difficulties_dict['Pursuing your own interests'],\n",
    "        'How often did pain occur in last month': 0,\n",
    "        'Pain disturbed everyday life': 0,\n",
    "        'Does pain forced to use of painkillers': 0,\n",
    "        'Does osteoarthritis affected your professional work': 0,\n",
    "        'Did you practice any sports or recreational activities before your illness': 'recreational activities',\n",
    "        'Forced to give up': 'not affected',\n",
    "        'Emotional disturbances': 'not present',\n",
    "        'Therapy - pharmacological': 0.0,\n",
    "        'Therapy - non-pharmacological': 0.0,\n",
    "        'Therapy - surgical': 0.0,\n",
    "        'Therapy - diet': 0.0\n",
    "    }\n",
    "\n",
    "    return healthy_patient"
   ]
  },
  {
   "cell_type": "code",
   "execution_count": 104,
   "id": "fbe9afba",
   "metadata": {},
   "outputs": [],
   "source": [
    "for _ in range(30):\n",
    "    healthy_patient = generate_healthy_patient(dataframe)\n",
    "    dataframe = pd.concat([dataframe, pd.DataFrame([healthy_patient])], ignore_index=True)"
   ]
  },
  {
   "cell_type": "code",
   "execution_count": 105,
   "id": "11ff829c",
   "metadata": {},
   "outputs": [],
   "source": [
    "dataframe.fillna(0, inplace=True)"
   ]
  },
  {
   "cell_type": "code",
   "execution_count": 106,
   "id": "557ed074",
   "metadata": {},
   "outputs": [],
   "source": [
    "def get_score(row):\n",
    "    severity_score = 0\n",
    "    ailments_columns = ['Ailments - pain', 'Ailments - limitation of mobility', 'Ailments - impairment of rotation and abduction in the joint', 'Ailments - stiffness in the joint', 'Ailments - difficulty bending and squatting', 'Ailments - pelvic drop on the side opposite to the affected side', 'Ailments - joint instability', 'Ailments - tenderness', 'Ailments - joint crepitus', 'Ailments - widening and distortion of the outlines of the joints', 'Ailments - joint swelling', 'Ailments - difficulty performing precise activities with your fingers', 'Ailments - limping', 'Ailments - deterioration in the quality of gait']\n",
    "    genetic = 'Family history with osteoarthisis'\n",
    "    activity_columns = ['Performing body toilet, bathing', 'Dressing', 'Cleaning', 'Lifting or carrying heavy items', 'Climbing stairs up to one floor', 'Climbing stairs up to second floor', 'Going down the stairs', 'Bending or crouching', 'Walk about 100 meters', 'Walk about 500 meters', 'Walk above 1000 meters', 'Cycling', 'Pursuing your own interests']\n",
    "    pain_columns = ['How often did pain occur in last month', 'Pain disturbed everyday life']\n",
    "\n",
    "    for ailments in ailments_columns:\n",
    "        severity_score += row[ailments]\n",
    "\n",
    "    severity_score += 1 if row[genetic] == 'yes' else 0\n",
    "\n",
    "    for activity in activity_columns:\n",
    "        activity_value = row[activity]\n",
    "        if activity_value != 'No opinion':\n",
    "            severity_score += activity_value\n",
    "\n",
    "    for pain in pain_columns:\n",
    "        severity_score += row[pain]\n",
    "\n",
    "    return severity_score"
   ]
  },
  {
   "cell_type": "code",
   "execution_count": 107,
   "id": "b5e8f7bd",
   "metadata": {},
   "outputs": [],
   "source": [
    "dataframe['severity_score'] = dataframe.apply(get_score, axis=1)"
   ]
  },
  {
   "cell_type": "code",
   "execution_count": 108,
   "id": "3cda3c33",
   "metadata": {},
   "outputs": [
    {
     "name": "stdout",
     "output_type": "stream",
     "text": [
      "count    130.000000\n",
      "mean      20.784615\n",
      "std       12.856383\n",
      "min        0.000000\n",
      "25%        9.000000\n",
      "50%       21.000000\n",
      "75%       29.750000\n",
      "max       56.000000\n",
      "Name: severity_score, dtype: float64\n"
     ]
    }
   ],
   "source": [
    "print(dataframe['severity_score'].describe())"
   ]
  },
  {
   "cell_type": "code",
   "execution_count": 109,
   "id": "b3254302",
   "metadata": {},
   "outputs": [
    {
     "data": {
      "image/png": "[encoded data removed]",
      "text/plain": [
       "<Figure size 640x480 with 1 Axes>"
      ]
     },
     "metadata": {},
     "output_type": "display_data"
    }
   ],
   "source": [
    "plt.hist(dataframe['severity_score'], bins=20, edgecolor='black')\n",
    "plt.title('Severity Score Distribution')\n",
    "plt.xlabel('Severity Score')\n",
    "plt.ylabel('Number of Patients')\n",
    "plt.show()"
   ]
  },
  {
   "cell_type": "code",
   "execution_count": 110,
   "id": "0f1d8fd4",
   "metadata": {},
   "outputs": [],
   "source": [
    "def severity_label(score):\n",
    "    if score <= 8:\n",
    "        return 'Grade 0 - none'\n",
    "    elif score <= 18:\n",
    "        return 'Grade 1 - doubtful'\n",
    "    elif score <= 28:\n",
    "        return 'Grade 2 - minimal'\n",
    "    elif score <= 38:\n",
    "        return 'Grade 3 - moderate'\n",
    "    else:\n",
    "        return 'Grade 4 - severe'"
   ]
  },
  {
   "cell_type": "code",
   "execution_count": 111,
   "id": "efba5f6f",
   "metadata": {},
   "outputs": [],
   "source": [
    "dataframe['severity_grade'] = dataframe['severity_score'].apply(severity_label)"
   ]
  },
  {
   "cell_type": "code",
   "execution_count": 112,
   "id": "bce6f3f6",
   "metadata": {},
   "outputs": [
    {
     "data": {
      "text/plain": [
       "severity_grade\n",
       "Grade 2 - minimal     35\n",
       "Grade 0 - none        32\n",
       "Grade 1 - doubtful    27\n",
       "Grade 3 - moderate    26\n",
       "Grade 4 - severe      10\n",
       "Name: count, dtype: int64"
      ]
     },
     "execution_count": 112,
     "metadata": {},
     "output_type": "execute_result"
    }
   ],
   "source": [
    "dataframe['severity_grade'].value_counts()"
   ]
  },
  {
   "cell_type": "code",
   "execution_count": 113,
   "id": "f950ff09",
   "metadata": {},
   "outputs": [],
   "source": [
    "dataframe.to_csv('D:/semestr_10/master_thesis/medical_chatbot/data/text_data.csv', index=False)"
   ]
  }
 ],
 "metadata": {
  "kernelspec": {
   "display_name": "venv",
   "language": "python",
   "name": "python3"
  },
  "language_info": {
   "codemirror_mode": {
    "name": "ipython",
    "version": 3
   },
   "file_extension": ".py",
   "mimetype": "text/x-python",
   "name": "python",
   "nbconvert_exporter": "python",
   "pygments_lexer": "ipython3",
   "version": "3.10.11"
  }
 },
 "nbformat": 4,
 "nbformat_minor": 5
}
