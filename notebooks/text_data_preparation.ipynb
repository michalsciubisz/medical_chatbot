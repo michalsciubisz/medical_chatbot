{
 "cells": [
  {
   "cell_type": "code",
   "execution_count": 47,
   "id": "7895983a",
   "metadata": {},
   "outputs": [],
   "source": [
    "import pandas as pd"
   ]
  },
  {
   "cell_type": "code",
   "execution_count": 48,
   "id": "cc9e5464",
   "metadata": {},
   "outputs": [],
   "source": [
    "dataframe = pd.read_excel('D:/semestr_10/master_thesis/medical_chatbot/data/text_dataset.xlsx')"
   ]
  },
  {
   "cell_type": "markdown",
   "id": "1304e6ea",
   "metadata": {},
   "source": [
    "#### Remapping column names and droping unnecessary staff:"
   ]
  },
  {
   "cell_type": "code",
   "execution_count": 49,
   "id": "85db47cf",
   "metadata": {},
   "outputs": [
    {
     "name": "stdout",
     "output_type": "stream",
     "text": [
      "['Płeć', 'Wiek', 'Masa ciała', 'Wzrost', 'BMI', 'Stan cywilny', 'Wykształcenie', 'Charakter pracy', 'Miejsce zamieszkania', '1. Proszę podać ilość pobytów Pana/Pani na leczeniu uzdrowiskowym. ', '2. Z jakiego powodu przebywa Pan/Pani na leczeniu uzdrowiskoym? Można zaznaczyć jedną lub więcej odpowiedzi - choroba zwyrodnieniowa barku', '2. Z jakiego powodu przebywa Pan/Pani na leczeniu uzdrowiskoym? Można zaznaczyć jedną lub więcej odpowiedzi - choroba zwyrodnieniowa rąk', '2. Z jakiego powodu przebywa Pan/Pani na leczeniu uzdrowiskoym? Można zaznaczyć jedną lub więcej odpowiedzi - choroba zwyrodnieniowa stawów biodrowych', '2. Z jakiego powodu przebywa Pan/Pani na leczeniu uzdrowiskoym? Można zaznaczyć jedną lub więcej odpowiedzi - choroba zwyrodnieniowa stawów kolanowych', '2. Z jakiego powodu przebywa Pan/Pani na leczeniu uzdrowiskoym? Można zaznaczyć jedną lub więcej odpowiedzi - choroba zwyrodnieniowa stawów stopy', '2. Z jakiego powodu przebywa Pan/Pani na leczeniu uzdrowiskoym? Można zaznaczyć jedną lub więcej odpowiedzi - choroba zwyrodnieniowa kręgosłupa', '3. Na podstawie jakich badań zdiagnozowano u Pana/Pani chorobę zwyrodnieniową? Można zaznaczyć jedną lub więcej odpowiedzi. - badania lekarskiego i wywiadu', '3. Na podstawie jakich badań zdiagnozowano u Pana/Pani chorobę zwyrodnieniową? Można zaznaczyć jedną lub więcej odpowiedzi. - USG (ultrasonografia)', '3. Na podstawie jakich badań zdiagnozowano u Pana/Pani chorobę zwyrodnieniową? Można zaznaczyć jedną lub więcej odpowiedzi. - RTG (prześwietlenie)', '3. Na podstawie jakich badań zdiagnozowano u Pana/Pani chorobę zwyrodnieniową? Można zaznaczyć jedną lub więcej odpowiedzi. - RM (rezonans magnetyczny)', '3. Na podstawie jakich badań zdiagnozowano u Pana/Pani chorobę zwyrodnieniową? Można zaznaczyć jedną lub więcej odpowiedzi. - TK (tomografia komputerowa)', '3. Na podstawie jakich badań zdiagnozowano u Pana/Pani chorobę zwyrodnieniową? Można zaznaczyć jedną lub więcej odpowiedzi. - wyniku badania płynu stawowego z zajętych stawów', '4. Według Pana/Pani co wpłynęło na rozwój choroby zwyrodnieniowej stawów kończyn/kręgosłupa? Można zaznaczyć jedną lub więcej odpowiedzi. - wiek', '4. Według Pana/Pani co wpłynęło na rozwój choroby zwyrodnieniowej stawów kończyn/kręgosłupa? Można zaznaczyć jedną lub więcej odpowiedzi. - uwarunkowanie genetyczne', '4. Według Pana/Pani co wpłynęło na rozwój choroby zwyrodnieniowej stawów kończyn/kręgosłupa? Można zaznaczyć jedną lub więcej odpowiedzi. - ciężka praca fizyczna', '4. Według Pana/Pani co wpłynęło na rozwój choroby zwyrodnieniowej stawów kończyn/kręgosłupa? Można zaznaczyć jedną lub więcej odpowiedzi. - siedzący tryb życia', '4. Według Pana/Pani co wpłynęło na rozwój choroby zwyrodnieniowej stawów kończyn/kręgosłupa? Można zaznaczyć jedną lub więcej odpowiedzi. - mała aktywność fizyczna', '4. Według Pana/Pani co wpłynęło na rozwój choroby zwyrodnieniowej stawów kończyn/kręgosłupa? Można zaznaczyć jedną lub więcej odpowiedzi. - otyłość', '4. Według Pana/Pani co wpłynęło na rozwój choroby zwyrodnieniowej stawów kończyn/kręgosłupa? Można zaznaczyć jedną lub więcej odpowiedzi. - urazy', '4. Według Pana/Pani co wpłynęło na rozwój choroby zwyrodnieniowej stawów kończyn/kręgosłupa? Można zaznaczyć jedną lub więcej odpowiedzi. - sport wyczynowy', '4. Według Pana/Pani co wpłynęło na rozwój choroby zwyrodnieniowej stawów kończyn/kręgosłupa? Można zaznaczyć jedną lub więcej odpowiedzi. - niestabiność stawów', '4. Według Pana/Pani co wpłynęło na rozwój choroby zwyrodnieniowej stawów kończyn/kręgosłupa? Można zaznaczyć jedną lub więcej odpowiedzi. - stany zapalne stawów', '4. Według Pana/Pani co wpłynęło na rozwój choroby zwyrodnieniowej stawów kończyn/kręgosłupa? Można zaznaczyć jedną lub więcej odpowiedzi. - koślawość kolan', '4. Według Pana/Pani co wpłynęło na rozwój choroby zwyrodnieniowej stawów kończyn/kręgosłupa? Można zaznaczyć jedną lub więcej odpowiedzi. - skrzywienie kręgosłupa', '4. Według Pana/Pani co wpłynęło na rozwój choroby zwyrodnieniowej stawów kończyn/kręgosłupa? Można zaznaczyć jedną lub więcej odpowiedzi. - choroby współistniejące', '5. Jakie ma Pan/Pani dolegliwości w związku ze zwyrodnieniem stawów kończyn/kręgosłupa? Można zaznaczyć jedną lub więcej odpowiedzi. - dolegliwości bólowe', '5. Jakie ma Pan/Pani dolegliwości w związku ze zwyrodnieniem stawów kończyn/kręgosłupa? Można zaznaczyć jedną lub więcej odpowiedzi. - ograniczenie ruchomości w stawie', '5. Jakie ma Pan/Pani dolegliwości w związku ze zwyrodnieniem stawów kończyn/kręgosłupa? Można zaznaczyć jedną lub więcej odpowiedzi. - upośledzenie rotacji i odwodzenia w stawie', '5. Jakie ma Pan/Pani dolegliwości w związku ze zwyrodnieniem stawów kończyn/kręgosłupa? Można zaznaczyć jedną lub więcej odpowiedzi. - sztywność w stawie', '5. Jakie ma Pan/Pani dolegliwości w związku ze zwyrodnieniem stawów kończyn/kręgosłupa? Można zaznaczyć jedną lub więcej odpowiedzi. - trudność przy schylaniu i kucaniu', '5. Jakie ma Pan/Pani dolegliwości w związku ze zwyrodnieniem stawów kończyn/kręgosłupa? Można zaznaczyć jedną lub więcej odpowiedzi. - opadanie miednicy po przeciwnej stronie do zajętej zwyrodnieniem', '5. Jakie ma Pan/Pani dolegliwości w związku ze zwyrodnieniem stawów kończyn/kręgosłupa? Można zaznaczyć jedną lub więcej odpowiedzi. - niestabilność stawu', '5. Jakie ma Pan/Pani dolegliwości w związku ze zwyrodnieniem stawów kończyn/kręgosłupa? Można zaznaczyć jedną lub więcej odpowiedzi. - tkliwość', '5. Jakie ma Pan/Pani dolegliwości w związku ze zwyrodnieniem stawów kończyn/kręgosłupa? Można zaznaczyć jedną lub więcej odpowiedzi. - trzeszczenie w stawie', '5. Jakie ma Pan/Pani dolegliwości w związku ze zwyrodnieniem stawów kończyn/kręgosłupa? Można zaznaczyć jedną lub więcej odpowiedzi. - poszerzenie i zniekształcenie obrysów stawów', '5. Jakie ma Pan/Pani dolegliwości w związku ze zwyrodnieniem stawów kończyn/kręgosłupa? Można zaznaczyć jedną lub więcej odpowiedzi. - obrzęk stawu', '5. Jakie ma Pan/Pani dolegliwości w związku ze zwyrodnieniem stawów kończyn/kręgosłupa? Można zaznaczyć jedną lub więcej odpowiedzi. - trudności w wykonywaniu palcami czynności precyzyjnych', '5. Jakie ma Pan/Pani dolegliwości w związku ze zwyrodnieniem stawów kończyn/kręgosłupa? Można zaznaczyć jedną lub więcej odpowiedzi. - utykanie', '5. Jakie ma Pan/Pani dolegliwości w związku ze zwyrodnieniem stawów kończyn/kręgosłupa? Można zaznaczyć jedną lub więcej odpowiedzi. - pogorszenie jakości chodu', '6. Czy w rodzinie Pana/Pani występowała choroba zwyrodnieniowa stawów kończyn/ kręgosłupa?', '7. Czy porusza się Pan/Pani samodzielnie? ', '8. Czy używa Pan/Pani sprzętu pomocniczego?', '9. Czy przed leczeniem uzdrowiskowym, choroba zwyrodnieniowa ograniczała Pana/Pani możliwości wykonywania czynności życia codziennego takich jak: - Wykonywanie toalety ciała, kąpieli', '9. Czy przed leczeniem uzdrowiskowym, choroba zwyrodnieniowa ograniczała Pana/Pani możliwości wykonywania czynności życia codziennego takich jak: - Ubieranie się', '9. Czy przed leczeniem uzdrowiskowym, choroba zwyrodnieniowa ograniczała Pana/Pani możliwości wykonywania czynności życia codziennego takich jak: - Sprzątanie', '9. Czy przed leczeniem uzdrowiskowym, choroba zwyrodnieniowa ograniczała Pana/Pani możliwości wykonywania czynności życia codziennego takich jak: - Podnoszenie lub dźwiganie ciężkich przedmiotów np. Zakupów', '9. Czy przed leczeniem uzdrowiskowym, choroba zwyrodnieniowa ograniczała Pana/Pani możliwości wykonywania czynności życia codziennego takich jak: - Wchodzenie po schodach na wysokość jednego piętra', '9. Czy przed leczeniem uzdrowiskowym, choroba zwyrodnieniowa ograniczała Pana/Pani możliwości wykonywania czynności życia codziennego takich jak: - Wchodzenie po schodach na wysokość drugiego piętra', '9. Czy przed leczeniem uzdrowiskowym, choroba zwyrodnieniowa ograniczała Pana/Pani możliwości wykonywania czynności życia codziennego takich jak: - Schodzenie po schodach', '9. Czy przed leczeniem uzdrowiskowym, choroba zwyrodnieniowa ograniczała Pana/Pani możliwości wykonywania czynności życia codziennego takich jak: - Schylanie się lub kucanie', '9. Czy przed leczeniem uzdrowiskowym, choroba zwyrodnieniowa ograniczała Pana/Pani możliwości wykonywania czynności życia codziennego takich jak: - Spacer około 100 metrów', '9. Czy przed leczeniem uzdrowiskowym, choroba zwyrodnieniowa ograniczała Pana/Pani możliwości wykonywania czynności życia codziennego takich jak: - Spacer około 500 metrów', '9. Czy przed leczeniem uzdrowiskowym, choroba zwyrodnieniowa ograniczała Pana/Pani możliwości wykonywania czynności życia codziennego takich jak: - Spacer powyżej 1 kilometra', '9. Czy przed leczeniem uzdrowiskowym, choroba zwyrodnieniowa ograniczała Pana/Pani możliwości wykonywania czynności życia codziennego takich jak: - Jazda na rowerze', '9. Czy przed leczeniem uzdrowiskowym, choroba zwyrodnieniowa ograniczała Pana/Pani możliwości wykonywania czynności życia codziennego takich jak: - Realizacja własnych zainteresowań', '10. Jeżeli w pytaniu piątym zaznaczył Pan/Pani ból jako jedną z dolegliwości choroby zwyrodnieniowej, to jak często w ciągu ostatniego miesiąca występował? ', '11. Czy w ciągu ostatniego miesiąca ból zakłócał Pana/Pani funkcjonowanie w życiu codziennym? ', '12. Jak często z powodu dolegliwości bólowych był Pan/Pani zmuszony zażywać leki przeciwbólowe? ', '13. Czy choroba zwyrodnieniowa wpłynęła na Pana/Pani pracę zawodową? ', '14. Czy przed chorobą uprawiał Pan/Pani jakiś sport, aktywność rekreacyjną? ', '15. Czy w związku z chorobą zwyrodnieniową był Pan/Pani zmuszony zrezygnować z: ', '16. Czy choroba zwyrodnieniowa wywołuje u Pana/Pani zaburzenia emocjonalne takie jak: ', '17. Czy stosował Pan/Pani do tej pory jakąś terapię w związku z chorobą zwyrodnieniową? Jeżeli tak, to jaką? Można zaznaczyć jedną lub więcej odpowiedzi. - farmakologiczną (blokady bezpośrednio do stawów)', '17. Czy stosował Pan/Pani do tej pory jakąś terapię w związku z chorobą zwyrodnieniową? Jeżeli tak, to jaką? Można zaznaczyć jedną lub więcej odpowiedzi. - niefarmakologiczną (ciepłe lub chłodne okłady, ćwiczenia)', '17. Czy stosował Pan/Pani do tej pory jakąś terapię w związku z chorobą zwyrodnieniową? Jeżeli tak, to jaką? Można zaznaczyć jedną lub więcej odpowiedzi. - chirurgiczną (endoprotezoplastyka stawu biodrowego, kolanowego)', '17. Czy stosował Pan/Pani do tej pory jakąś terapię w związku z chorobą zwyrodnieniową? Jeżeli tak, to jaką? Można zaznaczyć jedną lub więcej odpowiedzi. - dietę - pozwalającą utrzymać optymalną masę ciała', '19. Czy korzysta Pan/Pani chętnie z zabiegów i ćwiczeń oferowanych w leczeniu uzdrowiskowym?', '20. Czy w trakcie leczenia uzdrowiskowego następuje u Pana/Pani poprawa sprawności fizycznej? ', '22. Czy według Pana/Pani zastosowane metody leczenia w trakcie pobytu uzdrowiskowego pozwoliły ograniczyć zażywane leki przeciwbólowe? ', '23. Czy panujący w uzdrowisku mikroklimat wpłynął na poprawę Pana/Pani stanu zdrowia?', '24. Czy kompleksowa opieka uzdrowiskowa wpłynęła na poprawę Pana/Pani samopoczucia psychicznego? (np. zmniejszając lęk i niepokój związany z chorobą) ', '25. Jak ocenia Pan/Pani swój stan zdrowia obecnie, porównując go do okresu przed przyjazdem do uzdrowiska? ', '26. Czy pobyt na leczeniu uzdrowiskowym poprawił Pana/Pani jakość życia?', '27. Jak bardzo jest Panu/Pani potrzebne leczenie uzdrowiskowe, aby dobrze funkcjonować w życiu codziennym?']\n"
     ]
    }
   ],
   "source": [
    "print(dataframe.columns.tolist())"
   ]
  },
  {
   "cell_type": "code",
   "execution_count": 50,
   "id": "5ca68441",
   "metadata": {},
   "outputs": [],
   "source": [
    "mapper = {\n",
    "    'Płeć' : 'Gender',\n",
    "    'Wiek' : 'Age',\n",
    "    'Masa ciała' : 'Weight',\n",
    "    'Wzrost' : 'Height',\n",
    "    'Charakter pracy' : 'Work type',\n",
    "    '2. Z jakiego powodu przebywa Pan/Pani na leczeniu uzdrowiskoym? Można zaznaczyć jedną lub więcej odpowiedzi - choroba zwyrodnieniowa barku' : 'Shoulder osteoarthritis',\n",
    "    '2. Z jakiego powodu przebywa Pan/Pani na leczeniu uzdrowiskoym? Można zaznaczyć jedną lub więcej odpowiedzi - choroba zwyrodnieniowa rąk' : 'Hand osteoarthritis',\n",
    "    '2. Z jakiego powodu przebywa Pan/Pani na leczeniu uzdrowiskoym? Można zaznaczyć jedną lub więcej odpowiedzi - choroba zwyrodnieniowa stawów biodrowych' : 'Hip joint osteoarthritis',\n",
    "    '2. Z jakiego powodu przebywa Pan/Pani na leczeniu uzdrowiskoym? Można zaznaczyć jedną lub więcej odpowiedzi - choroba zwyrodnieniowa stawów kolanowych' : 'Knee osteoarthritis',\n",
    "    '2. Z jakiego powodu przebywa Pan/Pani na leczeniu uzdrowiskoym? Można zaznaczyć jedną lub więcej odpowiedzi - choroba zwyrodnieniowa stawów stopy' : 'Feet osteoarthritis',\n",
    "    '2. Z jakiego powodu przebywa Pan/Pani na leczeniu uzdrowiskoym? Można zaznaczyć jedną lub więcej odpowiedzi - choroba zwyrodnieniowa kręgosłupa' : 'Spine osteoarthritis',\n",
    "    '3. Na podstawie jakich badań zdiagnozowano u Pana/Pani chorobę zwyrodnieniową? Można zaznaczyć jedną lub więcej odpowiedzi. - badania lekarskiego i wywiadu' : 'Diagnosis - medical examination and interview',\n",
    "    '3. Na podstawie jakich badań zdiagnozowano u Pana/Pani chorobę zwyrodnieniową? Można zaznaczyć jedną lub więcej odpowiedzi. - USG (ultrasonografia)' : 'Diagnosis - USG',\n",
    "    '3. Na podstawie jakich badań zdiagnozowano u Pana/Pani chorobę zwyrodnieniową? Można zaznaczyć jedną lub więcej odpowiedzi. - RTG (prześwietlenie)' : 'Diagnosis - RTG',\n",
    "    '3. Na podstawie jakich badań zdiagnozowano u Pana/Pani chorobę zwyrodnieniową? Można zaznaczyć jedną lub więcej odpowiedzi. - RM (rezonans magnetyczny)' : 'Diagnosis - MRI',\n",
    "    '3. Na podstawie jakich badań zdiagnozowano u Pana/Pani chorobę zwyrodnieniową? Można zaznaczyć jedną lub więcej odpowiedzi. - TK (tomografia komputerowa)' : 'Diagnosis - CT',\n",
    "    '3. Na podstawie jakich badań zdiagnozowano u Pana/Pani chorobę zwyrodnieniową? Można zaznaczyć jedną lub więcej odpowiedzi. - wyniku badania płynu stawowego z zajętych stawów' : 'Diagnosis - fluid from the joint',\n",
    "    '4. Według Pana/Pani co wpłynęło na rozwój choroby zwyrodnieniowej stawów kończyn/kręgosłupa? Można zaznaczyć jedną lub więcej odpowiedzi. - wiek' : 'Cause - age',\n",
    "    '4. Według Pana/Pani co wpłynęło na rozwój choroby zwyrodnieniowej stawów kończyn/kręgosłupa? Można zaznaczyć jedną lub więcej odpowiedzi. - uwarunkowanie genetyczne' : 'Cause - genetics',\n",
    "    '4. Według Pana/Pani co wpłynęło na rozwój choroby zwyrodnieniowej stawów kończyn/kręgosłupa? Można zaznaczyć jedną lub więcej odpowiedzi. - ciężka praca fizyczna' : 'Cause - physical work',\n",
    "    '4. Według Pana/Pani co wpłynęło na rozwój choroby zwyrodnieniowej stawów kończyn/kręgosłupa? Można zaznaczyć jedną lub więcej odpowiedzi. - siedzący tryb życia' : 'Cause - sedentary lifestyle',\n",
    "    '4. Według Pana/Pani co wpłynęło na rozwój choroby zwyrodnieniowej stawów kończyn/kręgosłupa? Można zaznaczyć jedną lub więcej odpowiedzi. - mała aktywność fizyczna' : 'Cause - little physical activity',\n",
    "    '4. Według Pana/Pani co wpłynęło na rozwój choroby zwyrodnieniowej stawów kończyn/kręgosłupa? Można zaznaczyć jedną lub więcej odpowiedzi. - otyłość' : 'Cause - obesity',\n",
    "    '4. Według Pana/Pani co wpłynęło na rozwój choroby zwyrodnieniowej stawów kończyn/kręgosłupa? Można zaznaczyć jedną lub więcej odpowiedzi. - urazy' : 'Cause - injuries',\n",
    "    '4. Według Pana/Pani co wpłynęło na rozwój choroby zwyrodnieniowej stawów kończyn/kręgosłupa? Można zaznaczyć jedną lub więcej odpowiedzi. - sport wyczynowy' : 'Cause - competitive sports',\n",
    "    '4. Według Pana/Pani co wpłynęło na rozwój choroby zwyrodnieniowej stawów kończyn/kręgosłupa? Można zaznaczyć jedną lub więcej odpowiedzi. - niestabiność stawów' : 'Cause - joint instability', \n",
    "    '4. Według Pana/Pani co wpłynęło na rozwój choroby zwyrodnieniowej stawów kończyn/kręgosłupa? Można zaznaczyć jedną lub więcej odpowiedzi. - stany zapalne stawów' : 'Cause - joint inflammation',\n",
    "    '4. Według Pana/Pani co wpłynęło na rozwój choroby zwyrodnieniowej stawów kończyn/kręgosłupa? Można zaznaczyć jedną lub więcej odpowiedzi. - koślawość kolan' : 'Cause - knock knees',\n",
    "    '4. Według Pana/Pani co wpłynęło na rozwój choroby zwyrodnieniowej stawów kończyn/kręgosłupa? Można zaznaczyć jedną lub więcej odpowiedzi. - skrzywienie kręgosłupa' : 'Cause - spinal curvature',\n",
    "    '4. Według Pana/Pani co wpłynęło na rozwój choroby zwyrodnieniowej stawów kończyn/kręgosłupa? Można zaznaczyć jedną lub więcej odpowiedzi. - choroby współistniejące' : 'Cause - comorbidities',\n",
    "    '5. Jakie ma Pan/Pani dolegliwości w związku ze zwyrodnieniem stawów kończyn/kręgosłupa? Można zaznaczyć jedną lub więcej odpowiedzi. - dolegliwości bólowe' : 'Ailments - pain',\n",
    "    '5. Jakie ma Pan/Pani dolegliwości w związku ze zwyrodnieniem stawów kończyn/kręgosłupa? Można zaznaczyć jedną lub więcej odpowiedzi. - ograniczenie ruchomości w stawie' : 'Ailments - limitation of mobility',\n",
    "    '5. Jakie ma Pan/Pani dolegliwości w związku ze zwyrodnieniem stawów kończyn/kręgosłupa? Można zaznaczyć jedną lub więcej odpowiedzi. - upośledzenie rotacji i odwodzenia w stawie' : 'Ailments - impairment of rotation and abduction in the joint', \n",
    "    '5. Jakie ma Pan/Pani dolegliwości w związku ze zwyrodnieniem stawów kończyn/kręgosłupa? Można zaznaczyć jedną lub więcej odpowiedzi. - sztywność w stawie' : 'Ailments - stiffness in the joint', \n",
    "    '5. Jakie ma Pan/Pani dolegliwości w związku ze zwyrodnieniem stawów kończyn/kręgosłupa? Można zaznaczyć jedną lub więcej odpowiedzi. - trudność przy schylaniu i kucaniu' : 'Ailments - difficulty bending and squatting', \n",
    "    '5. Jakie ma Pan/Pani dolegliwości w związku ze zwyrodnieniem stawów kończyn/kręgosłupa? Można zaznaczyć jedną lub więcej odpowiedzi. - opadanie miednicy po przeciwnej stronie do zajętej zwyrodnieniem' : 'Ailments - pelvic drop on the side opposite to the affected side', \n",
    "    '5. Jakie ma Pan/Pani dolegliwości w związku ze zwyrodnieniem stawów kończyn/kręgosłupa? Można zaznaczyć jedną lub więcej odpowiedzi. - niestabilność stawu' : 'Ailments - joint instability', \n",
    "    '5. Jakie ma Pan/Pani dolegliwości w związku ze zwyrodnieniem stawów kończyn/kręgosłupa? Można zaznaczyć jedną lub więcej odpowiedzi. - tkliwość' : 'Ailments - tenderness', \n",
    "    '5. Jakie ma Pan/Pani dolegliwości w związku ze zwyrodnieniem stawów kończyn/kręgosłupa? Można zaznaczyć jedną lub więcej odpowiedzi. - trzeszczenie w stawie' : 'Ailments - joint crepitus', \n",
    "    '5. Jakie ma Pan/Pani dolegliwości w związku ze zwyrodnieniem stawów kończyn/kręgosłupa? Można zaznaczyć jedną lub więcej odpowiedzi. - poszerzenie i zniekształcenie obrysów stawów' : 'Ailments - widening and distortion of the outlines of the joints', \n",
    "    '5. Jakie ma Pan/Pani dolegliwości w związku ze zwyrodnieniem stawów kończyn/kręgosłupa? Można zaznaczyć jedną lub więcej odpowiedzi. - obrzęk stawu' : 'Ailments - joint swelling', \n",
    "    '5. Jakie ma Pan/Pani dolegliwości w związku ze zwyrodnieniem stawów kończyn/kręgosłupa? Można zaznaczyć jedną lub więcej odpowiedzi. - trudności w wykonywaniu palcami czynności precyzyjnych' : 'Ailments - difficulty performing precise activities with your fingers', \n",
    "    '5. Jakie ma Pan/Pani dolegliwości w związku ze zwyrodnieniem stawów kończyn/kręgosłupa? Można zaznaczyć jedną lub więcej odpowiedzi. - utykanie' : 'Ailments - limping', \n",
    "    '5. Jakie ma Pan/Pani dolegliwości w związku ze zwyrodnieniem stawów kończyn/kręgosłupa? Można zaznaczyć jedną lub więcej odpowiedzi. - pogorszenie jakości chodu' : 'Ailments - deterioration in the quality of gait', \n",
    "    '6. Czy w rodzinie Pana/Pani występowała choroba zwyrodnieniowa stawów kończyn/ kręgosłupa?' : 'Family history with osteoarthisis',\n",
    "    '7. Czy porusza się Pan/Pani samodzielnie? ' : 'Moving independently',\n",
    "    '8. Czy używa Pan/Pani sprzętu pomocniczego?' : 'Use of assistive equipment',\n",
    "    '9. Czy przed leczeniem uzdrowiskowym, choroba zwyrodnieniowa ograniczała Pana/Pani możliwości wykonywania czynności życia codziennego takich jak: - Wykonywanie toalety ciała, kąpieli' : 'Performing body toilet, bathing',\n",
    "    '9. Czy przed leczeniem uzdrowiskowym, choroba zwyrodnieniowa ograniczała Pana/Pani możliwości wykonywania czynności życia codziennego takich jak: - Ubieranie się' : 'Dressing',\n",
    "    '9. Czy przed leczeniem uzdrowiskowym, choroba zwyrodnieniowa ograniczała Pana/Pani możliwości wykonywania czynności życia codziennego takich jak: - Sprzątanie' : 'Cleaning',\n",
    "    '9. Czy przed leczeniem uzdrowiskowym, choroba zwyrodnieniowa ograniczała Pana/Pani możliwości wykonywania czynności życia codziennego takich jak: - Podnoszenie lub dźwiganie ciężkich przedmiotów np. Zakupów' : 'Lifting or carrying heavy items', \n",
    "    '9. Czy przed leczeniem uzdrowiskowym, choroba zwyrodnieniowa ograniczała Pana/Pani możliwości wykonywania czynności życia codziennego takich jak: - Wchodzenie po schodach na wysokość jednego piętra' : 'Climbing stairs up to one floor',\n",
    "    '9. Czy przed leczeniem uzdrowiskowym, choroba zwyrodnieniowa ograniczała Pana/Pani możliwości wykonywania czynności życia codziennego takich jak: - Wchodzenie po schodach na wysokość drugiego piętra' : 'Climbing stairs up to second floor',\n",
    "    '9. Czy przed leczeniem uzdrowiskowym, choroba zwyrodnieniowa ograniczała Pana/Pani możliwości wykonywania czynności życia codziennego takich jak: - Schodzenie po schodach' : 'Going down the stairs',\n",
    "    '9. Czy przed leczeniem uzdrowiskowym, choroba zwyrodnieniowa ograniczała Pana/Pani możliwości wykonywania czynności życia codziennego takich jak: - Schylanie się lub kucanie' : 'Bending or crouching',\n",
    "    '9. Czy przed leczeniem uzdrowiskowym, choroba zwyrodnieniowa ograniczała Pana/Pani możliwości wykonywania czynności życia codziennego takich jak: - Spacer około 100 metrów' : 'Walk about 100 meters',\n",
    "    '9. Czy przed leczeniem uzdrowiskowym, choroba zwyrodnieniowa ograniczała Pana/Pani możliwości wykonywania czynności życia codziennego takich jak: - Spacer około 500 metrów' : 'Walk about 500 meters', \n",
    "    '9. Czy przed leczeniem uzdrowiskowym, choroba zwyrodnieniowa ograniczała Pana/Pani możliwości wykonywania czynności życia codziennego takich jak: - Spacer powyżej 1 kilometra' : 'Walk above 1000 meters',\n",
    "    '9. Czy przed leczeniem uzdrowiskowym, choroba zwyrodnieniowa ograniczała Pana/Pani możliwości wykonywania czynności życia codziennego takich jak: - Jazda na rowerze' : 'Cycling',\n",
    "    '9. Czy przed leczeniem uzdrowiskowym, choroba zwyrodnieniowa ograniczała Pana/Pani możliwości wykonywania czynności życia codziennego takich jak: - Realizacja własnych zainteresowań' : 'Pursuing your own interests',\n",
    "    '10. Jeżeli w pytaniu piątym zaznaczył Pan/Pani ból jako jedną z dolegliwości choroby zwyrodnieniowej, to jak często w ciągu ostatniego miesiąca występował? ' : 'How often did pain occur in last month',\n",
    "    '11. Czy w ciągu ostatniego miesiąca ból zakłócał Pana/Pani funkcjonowanie w życiu codziennym? ' : 'Pain disturbed everyday life',\n",
    "    '12. Jak często z powodu dolegliwości bólowych był Pan/Pani zmuszony zażywać leki przeciwbólowe? ' : 'Does pain forced to use of painkillers',\n",
    "    '13. Czy choroba zwyrodnieniowa wpłynęła na Pana/Pani pracę zawodową? ' : 'Does osteoarthritis affected your professional work',\n",
    "    '14. Czy przed chorobą uprawiał Pan/Pani jakiś sport, aktywność rekreacyjną? ' : 'Did you practice any sports or recreational activities before your illness',\n",
    "    '15. Czy w związku z chorobą zwyrodnieniową był Pan/Pani zmuszony zrezygnować z: ' : 'Forced to give up',\n",
    "    '16. Czy choroba zwyrodnieniowa wywołuje u Pana/Pani zaburzenia emocjonalne takie jak: ' : 'Emotional disturbances',\n",
    "    '17. Czy stosował Pan/Pani do tej pory jakąś terapię w związku z chorobą zwyrodnieniową? Jeżeli tak, to jaką? Można zaznaczyć jedną lub więcej odpowiedzi. - farmakologiczną (blokady bezpośrednio do stawów)' : 'Therapy - pharmacological',\n",
    "    '17. Czy stosował Pan/Pani do tej pory jakąś terapię w związku z chorobą zwyrodnieniową? Jeżeli tak, to jaką? Można zaznaczyć jedną lub więcej odpowiedzi. - niefarmakologiczną (ciepłe lub chłodne okłady, ćwiczenia)' : 'Therapy - non-pharmacological', \n",
    "    '17. Czy stosował Pan/Pani do tej pory jakąś terapię w związku z chorobą zwyrodnieniową? Jeżeli tak, to jaką? Można zaznaczyć jedną lub więcej odpowiedzi. - chirurgiczną (endoprotezoplastyka stawu biodrowego, kolanowego)' : 'Therapy - surgical', \n",
    "    '17. Czy stosował Pan/Pani do tej pory jakąś terapię w związku z chorobą zwyrodnieniową? Jeżeli tak, to jaką? Można zaznaczyć jedną lub więcej odpowiedzi. - dietę - pozwalającą utrzymać optymalną masę ciała' : 'Therapy - diet', \n",
    "    '19. Czy korzysta Pan/Pani chętnie z zabiegów i ćwiczeń oferowanych w leczeniu uzdrowiskowym?' : 'Take advantage of the treatments and exercises offered during spa treatment',\n",
    "    '20. Czy w trakcie leczenia uzdrowiskowego następuje u Pana/Pani poprawa sprawności fizycznej? ' : 'Does your physical fitness improve during spa treatment?', \n",
    "    '22. Czy według Pana/Pani zastosowane metody leczenia w trakcie pobytu uzdrowiskowego pozwoliły ograniczyć zażywane leki przeciwbólowe? ' : 'Did the treatment methods used during your spa stay help you reduce the amount of painkillers you take',\n",
    "    '23. Czy panujący w uzdrowisku mikroklimat wpłynął na poprawę Pana/Pani stanu zdrowia?' : 'Microclimate',\n",
    "    '24. Czy kompleksowa opieka uzdrowiskowa wpłynęła na poprawę Pana/Pani samopoczucia psychicznego? (np. zmniejszając lęk i niepokój związany z chorobą) ' : 'Comprehensive spa care improved your mental well-being',\n",
    "    '25. Jak ocenia Pan/Pani swój stan zdrowia obecnie, porównując go do okresu przed przyjazdem do uzdrowiska? ' : 'How do you assess your health condition now',\n",
    "    '26. Czy pobyt na leczeniu uzdrowiskowym poprawił Pana/Pani jakość życia?' : 'Did your spa treatment improve your quality of life',\n",
    "    '27. Jak bardzo jest Panu/Pani potrzebne leczenie uzdrowiskowe, aby dobrze funkcjonować w życiu codziennym?' : 'Do you need spa treatment in your life'  \n",
    "}"
   ]
  },
  {
   "cell_type": "code",
   "execution_count": 51,
   "id": "33667849",
   "metadata": {},
   "outputs": [],
   "source": [
    "dataframe = dataframe.rename(columns=mapper)"
   ]
  },
  {
   "cell_type": "code",
   "execution_count": 52,
   "id": "b3574182",
   "metadata": {},
   "outputs": [],
   "source": [
    "columns_to_drop = ['Stan cywilny', 'Wykształcenie', 'Miejsce zamieszkania', '1. Proszę podać ilość pobytów Pana/Pani na leczeniu uzdrowiskowym. ', 'Do you need spa treatment in your life', 'Did your spa treatment improve your quality of life', 'Comprehensive spa care improved your mental well-being', 'Microclimate', 'Did the treatment methods used during your spa stay help you reduce the amount of painkillers you take', 'Does your physical fitness improve during spa treatment?', 'Take advantage of the treatments and exercises offered during spa treatment']"
   ]
  },
  {
   "cell_type": "code",
   "execution_count": 53,
   "id": "82506bb5",
   "metadata": {},
   "outputs": [],
   "source": [
    "dataframe = dataframe.drop(columns=columns_to_drop)"
   ]
  },
  {
   "cell_type": "markdown",
   "id": "52331f7b",
   "metadata": {},
   "source": [
    "First row needs to be removed since it's NAN values only."
   ]
  },
  {
   "cell_type": "code",
   "execution_count": 55,
   "id": "a765e832",
   "metadata": {},
   "outputs": [],
   "source": [
    "dataframe.drop(dataframe.index[0:1], inplace=True)"
   ]
  },
  {
   "cell_type": "code",
   "execution_count": 56,
   "id": "a8d83c9b",
   "metadata": {},
   "outputs": [],
   "source": [
    "dataframe = dataframe.fillna(0) "
   ]
  },
  {
   "cell_type": "markdown",
   "id": "e561f137",
   "metadata": {},
   "source": [
    "#### Changing values of rows:"
   ]
  },
  {
   "cell_type": "markdown",
   "id": "14574318",
   "metadata": {},
   "source": [
    "Gender"
   ]
  },
  {
   "cell_type": "code",
   "execution_count": 58,
   "id": "931fd3a0",
   "metadata": {},
   "outputs": [],
   "source": [
    "gender_mapper = {\n",
    "    'kobieta': 'woman',\n",
    "    'mężczyzna': 'man'\n",
    "}\n",
    "dataframe['Gender'] = dataframe['Gender'].replace(gender_mapper)"
   ]
  },
  {
   "cell_type": "markdown",
   "id": "082254fc",
   "metadata": {},
   "source": [
    "Work type"
   ]
  },
  {
   "cell_type": "code",
   "execution_count": 61,
   "id": "a52d2809",
   "metadata": {},
   "outputs": [],
   "source": [
    "work_mapper = {\n",
    "    'nie pracuję': 'do not work',\n",
    "    'fizyczna': 'physical',\n",
    "    'mieszana' : 'mixed',\n",
    "    'umysłowa' : 'headwork'\n",
    "}\n",
    "dataframe['Work type'] = dataframe['Work type'].replace(work_mapper)"
   ]
  },
  {
   "cell_type": "code",
   "execution_count": 63,
   "id": "0fbf5580",
   "metadata": {},
   "outputs": [
    {
     "name": "stdout",
     "output_type": "stream",
     "text": [
      "['Gender', 'Age', 'Weight', 'Height', 'BMI', 'Work type', 'Shoulder osteoarthritis', 'Hand osteoarthritis', 'Hip joint osteoarthritis', 'Knee osteoarthritis', 'Feet osteoarthritis', 'Spine osteoarthritis', 'Diagnosis - medical examination and interview', 'Diagnosis - USG', 'Diagnosis - RTG', 'Diagnosis - MRI', 'Diagnosis - CT', 'Diagnosis - fluid from the joint', 'Cause - age', 'Cause - genetics', 'Cause - physical work', 'Cause - sedentary lifestyle', 'Cause - little physical activity', 'Cause - obesity', 'Cause - injuries', 'Cause - competitive sports', 'Cause - joint instability', 'Cause - joint inflammation', 'Cause - knock knees', 'Cause - spinal curvature', 'Cause - comorbidities', 'Ailments - pain', 'Ailments - limitation of mobility', 'Ailments - impairment of rotation and abduction in the joint', 'Ailments - stiffness in the joint', 'Ailments - difficulty bending and squatting', 'Ailments - pelvic drop on the side opposite to the affected side', 'Ailments - joint instability', 'Ailments - tenderness', 'Ailments - joint crepitus', 'Ailments - widening and distortion of the outlines of the joints', 'Ailments - joint swelling', 'Ailments - difficulty performing precise activities with your fingers', 'Ailments - limping', 'Ailments - deterioration in the quality of gait', 'Family history with osteoarthisis', 'Moving independently', 'Use of assistive equipment', 'Performing body toilet, bathing', 'Dressing', 'Cleaning', 'Lifting or carrying heavy items', 'Climbing stairs up to one floor', 'Climbing stairs up to second floor', 'Going down the stairs', 'Bending or crouching', 'Walk about 100 meters', 'Walk about 500 meters', 'Walk above 1000 meters', 'Cycling', 'Pursuing your own interests', 'How often did pain occur in last month', 'Pain disturbed everyday life', 'Does pain forced to use of painkillers', 'Does osteoarthritis affected your professional work', 'Did you practice any sports or recreational activities before your illness', 'Forced to give up', 'Emotional disturbances', 'Therapy - pharmacological', 'Therapy - non-pharmacological', 'Therapy - surgical', 'Therapy - diet', 'How do you assess your health condition now']\n"
     ]
    }
   ],
   "source": [
    "print(dataframe.columns.tolist())"
   ]
  },
  {
   "cell_type": "code",
   "execution_count": 64,
   "id": "90b9ae3c",
   "metadata": {},
   "outputs": [
    {
     "data": {
      "text/html": [
       "<div>\n",
       "<style scoped>\n",
       "    .dataframe tbody tr th:only-of-type {\n",
       "        vertical-align: middle;\n",
       "    }\n",
       "\n",
       "    .dataframe tbody tr th {\n",
       "        vertical-align: top;\n",
       "    }\n",
       "\n",
       "    .dataframe thead th {\n",
       "        text-align: right;\n",
       "    }\n",
       "</style>\n",
       "<table border=\"1\" class=\"dataframe\">\n",
       "  <thead>\n",
       "    <tr style=\"text-align: right;\">\n",
       "      <th></th>\n",
       "      <th>Gender</th>\n",
       "      <th>Age</th>\n",
       "      <th>Weight</th>\n",
       "      <th>Height</th>\n",
       "      <th>BMI</th>\n",
       "      <th>Work type</th>\n",
       "      <th>Shoulder osteoarthritis</th>\n",
       "      <th>Hand osteoarthritis</th>\n",
       "      <th>Hip joint osteoarthritis</th>\n",
       "      <th>Knee osteoarthritis</th>\n",
       "      <th>...</th>\n",
       "      <th>Does pain forced to use of painkillers</th>\n",
       "      <th>Does osteoarthritis affected your professional work</th>\n",
       "      <th>Did you practice any sports or recreational activities before your illness</th>\n",
       "      <th>Forced to give up</th>\n",
       "      <th>Emotional disturbances</th>\n",
       "      <th>Therapy - pharmacological</th>\n",
       "      <th>Therapy - non-pharmacological</th>\n",
       "      <th>Therapy - surgical</th>\n",
       "      <th>Therapy - diet</th>\n",
       "      <th>How do you assess your health condition now</th>\n",
       "    </tr>\n",
       "  </thead>\n",
       "  <tbody>\n",
       "    <tr>\n",
       "      <th>1</th>\n",
       "      <td>woman</td>\n",
       "      <td>55.0</td>\n",
       "      <td>83.0</td>\n",
       "      <td>173.0</td>\n",
       "      <td>27.732300</td>\n",
       "      <td>physical</td>\n",
       "      <td>1.0</td>\n",
       "      <td>0.0</td>\n",
       "      <td>0.0</td>\n",
       "      <td>0.0</td>\n",
       "      <td>...</td>\n",
       "      <td>często</td>\n",
       "      <td>miałem/am trudności w wykonywaniu pracy</td>\n",
       "      <td>tak</td>\n",
       "      <td>aktywności rekreacyjnej</td>\n",
       "      <td>bezradność</td>\n",
       "      <td>0</td>\n",
       "      <td>1.0</td>\n",
       "      <td>0.0</td>\n",
       "      <td>0.0</td>\n",
       "      <td>dużo lepiej</td>\n",
       "    </tr>\n",
       "    <tr>\n",
       "      <th>2</th>\n",
       "      <td>woman</td>\n",
       "      <td>79.0</td>\n",
       "      <td>66.0</td>\n",
       "      <td>164.0</td>\n",
       "      <td>24.538965</td>\n",
       "      <td>headwork</td>\n",
       "      <td>1.0</td>\n",
       "      <td>1.0</td>\n",
       "      <td>0.0</td>\n",
       "      <td>0.0</td>\n",
       "      <td>...</td>\n",
       "      <td>czasami</td>\n",
       "      <td>miałem/am trudności w wykonywaniu pracy</td>\n",
       "      <td>tak</td>\n",
       "      <td>aktywności rekreacyjnej</td>\n",
       "      <td>nerwowość</td>\n",
       "      <td>1</td>\n",
       "      <td>0.0</td>\n",
       "      <td>0.0</td>\n",
       "      <td>0.0</td>\n",
       "      <td>trochę lepiej</td>\n",
       "    </tr>\n",
       "    <tr>\n",
       "      <th>3</th>\n",
       "      <td>woman</td>\n",
       "      <td>74.0</td>\n",
       "      <td>105.0</td>\n",
       "      <td>164.0</td>\n",
       "      <td>39.039262</td>\n",
       "      <td>do not work</td>\n",
       "      <td>0.0</td>\n",
       "      <td>0.0</td>\n",
       "      <td>0.0</td>\n",
       "      <td>1.0</td>\n",
       "      <td>...</td>\n",
       "      <td>bardzo często</td>\n",
       "      <td>nie wpłynęła na moją pracę</td>\n",
       "      <td>nie</td>\n",
       "      <td>dłuższych spacerów niż 1 km</td>\n",
       "      <td>niepokój</td>\n",
       "      <td>0</td>\n",
       "      <td>1.0</td>\n",
       "      <td>0.0</td>\n",
       "      <td>0.0</td>\n",
       "      <td>nie mam zdania</td>\n",
       "    </tr>\n",
       "    <tr>\n",
       "      <th>4</th>\n",
       "      <td>woman</td>\n",
       "      <td>73.0</td>\n",
       "      <td>73.0</td>\n",
       "      <td>161.0</td>\n",
       "      <td>28.162494</td>\n",
       "      <td>headwork</td>\n",
       "      <td>0.0</td>\n",
       "      <td>1.0</td>\n",
       "      <td>0.0</td>\n",
       "      <td>1.0</td>\n",
       "      <td>...</td>\n",
       "      <td>czasami</td>\n",
       "      <td>nie wpłynęła na moją pracę</td>\n",
       "      <td>nie</td>\n",
       "      <td>nie musiałem/am rezygnować z niczego</td>\n",
       "      <td>nie występują</td>\n",
       "      <td>1</td>\n",
       "      <td>0.0</td>\n",
       "      <td>1.0</td>\n",
       "      <td>0.0</td>\n",
       "      <td>trochę lepiej</td>\n",
       "    </tr>\n",
       "    <tr>\n",
       "      <th>5</th>\n",
       "      <td>woman</td>\n",
       "      <td>63.0</td>\n",
       "      <td>73.0</td>\n",
       "      <td>159.0</td>\n",
       "      <td>28.875440</td>\n",
       "      <td>headwork</td>\n",
       "      <td>1.0</td>\n",
       "      <td>0.0</td>\n",
       "      <td>0.0</td>\n",
       "      <td>1.0</td>\n",
       "      <td>...</td>\n",
       "      <td>często</td>\n",
       "      <td>miałem/am trudności w wykonywaniu pracy</td>\n",
       "      <td>tak</td>\n",
       "      <td>uprawiania sportu</td>\n",
       "      <td>niepokój</td>\n",
       "      <td>0</td>\n",
       "      <td>1.0</td>\n",
       "      <td>0.0</td>\n",
       "      <td>0.0</td>\n",
       "      <td>podobnie jak przed przyjadem</td>\n",
       "    </tr>\n",
       "  </tbody>\n",
       "</table>\n",
       "<p>5 rows × 73 columns</p>\n",
       "</div>"
      ],
      "text/plain": [
       "  Gender   Age  Weight  Height        BMI    Work type  \\\n",
       "1  woman  55.0    83.0   173.0  27.732300     physical   \n",
       "2  woman  79.0    66.0   164.0  24.538965     headwork   \n",
       "3  woman  74.0   105.0   164.0  39.039262  do not work   \n",
       "4  woman  73.0    73.0   161.0  28.162494     headwork   \n",
       "5  woman  63.0    73.0   159.0  28.875440     headwork   \n",
       "\n",
       "   Shoulder osteoarthritis  Hand osteoarthritis  Hip joint osteoarthritis  \\\n",
       "1                      1.0                  0.0                       0.0   \n",
       "2                      1.0                  1.0                       0.0   \n",
       "3                      0.0                  0.0                       0.0   \n",
       "4                      0.0                  1.0                       0.0   \n",
       "5                      1.0                  0.0                       0.0   \n",
       "\n",
       "   Knee osteoarthritis  ...  Does pain forced to use of painkillers  \\\n",
       "1                  0.0  ...                                  często   \n",
       "2                  0.0  ...                                 czasami   \n",
       "3                  1.0  ...                           bardzo często   \n",
       "4                  1.0  ...                                 czasami   \n",
       "5                  1.0  ...                                  często   \n",
       "\n",
       "   Does osteoarthritis affected your professional work  \\\n",
       "1            miałem/am trudności w wykonywaniu pracy     \n",
       "2            miałem/am trudności w wykonywaniu pracy     \n",
       "3                         nie wpłynęła na moją pracę     \n",
       "4                         nie wpłynęła na moją pracę     \n",
       "5            miałem/am trudności w wykonywaniu pracy     \n",
       "\n",
       "   Did you practice any sports or recreational activities before your illness  \\\n",
       "1                                                tak                            \n",
       "2                                                tak                            \n",
       "3                                                nie                            \n",
       "4                                                nie                            \n",
       "5                                                tak                            \n",
       "\n",
       "                      Forced to give up  Emotional disturbances  \\\n",
       "1               aktywności rekreacyjnej              bezradność   \n",
       "2               aktywności rekreacyjnej               nerwowość   \n",
       "3           dłuższych spacerów niż 1 km                niepokój   \n",
       "4  nie musiałem/am rezygnować z niczego           nie występują   \n",
       "5                     uprawiania sportu                niepokój   \n",
       "\n",
       "   Therapy - pharmacological  Therapy - non-pharmacological  \\\n",
       "1                          0                            1.0   \n",
       "2                          1                            0.0   \n",
       "3                          0                            1.0   \n",
       "4                          1                            0.0   \n",
       "5                          0                            1.0   \n",
       "\n",
       "   Therapy - surgical  Therapy - diet  \\\n",
       "1                 0.0             0.0   \n",
       "2                 0.0             0.0   \n",
       "3                 0.0             0.0   \n",
       "4                 1.0             0.0   \n",
       "5                 0.0             0.0   \n",
       "\n",
       "   How do you assess your health condition now  \n",
       "1                                  dużo lepiej  \n",
       "2                                trochę lepiej  \n",
       "3                               nie mam zdania  \n",
       "4                                trochę lepiej  \n",
       "5                 podobnie jak przed przyjadem  \n",
       "\n",
       "[5 rows x 73 columns]"
      ]
     },
     "execution_count": 64,
     "metadata": {},
     "output_type": "execute_result"
    }
   ],
   "source": [
    "dataframe.head()"
   ]
  },
  {
   "cell_type": "code",
   "execution_count": 66,
   "id": "6b3788bc",
   "metadata": {},
   "outputs": [
    {
     "name": "stderr",
     "output_type": "stream",
     "text": [
      "C:\\Users\\micha\\AppData\\Local\\Temp\\ipykernel_1356\\850224149.py:11: FutureWarning: Downcasting behavior in `replace` is deprecated and will be removed in a future version. To retain the old behavior, explicitly call `result.infer_objects(copy=False)`. To opt-in to the future behavior, set `pd.set_option('future.no_silent_downcasting', True)`\n",
      "  dataframe[metric] = dataframe[metric].replace(metrics_mapper)\n"
     ]
    }
   ],
   "source": [
    "metrics_list = ['Performing body toilet, bathing', 'Dressing', 'Cleaning', 'Lifting or carrying heavy items', 'Climbing stairs up to one floor', 'Climbing stairs up to second floor', 'Going down the stairs', 'Bending or crouching', 'Walk about 100 meters', 'Walk about 500 meters', 'Walk above 1000 meters', 'Cycling', 'Pursuing your own interests']\n",
    "\n",
    "metrics_mapper = {\n",
    "    'Trochę ograniczała' : 1,\n",
    "    'Nie ograniczała' : 0,\n",
    "    'Ograniczała' : 2,\n",
    "    'Bardzo ograniczała' : 3\n",
    "}\n",
    "\n",
    "for metric in metrics_list:\n",
    "    dataframe[metric] = dataframe[metric].replace(metrics_mapper)"
   ]
  },
  {
   "cell_type": "code",
   "execution_count": null,
   "id": "6a231767",
   "metadata": {},
   "outputs": [],
   "source": [
    "'How often did pain occur in last month', 'Pain disturbed everyday life', 'Does pain forced to use of painkillers', 'Does osteoarthritis affected your professional work', 'Did you practice any sports or recreational activities before your illness', 'Forced to give up', 'Emotional disturbances', 'Therapy - pharmacological', 'Therapy - non-pharmacological', 'Therapy - surgical', 'Therapy - diet', 'How do you assess your health condition now'"
   ]
  },
  {
   "cell_type": "code",
   "execution_count": 70,
   "id": "b99be07e",
   "metadata": {},
   "outputs": [
    {
     "name": "stderr",
     "output_type": "stream",
     "text": [
      "C:\\Users\\micha\\AppData\\Local\\Temp\\ipykernel_1356\\1645527387.py:8: FutureWarning: Downcasting behavior in `replace` is deprecated and will be removed in a future version. To retain the old behavior, explicitly call `result.infer_objects(copy=False)`. To opt-in to the future behavior, set `pd.set_option('future.no_silent_downcasting', True)`\n",
      "  dataframe['How often did pain occur in last month'] = dataframe['How often did pain occur in last month'].replace(occurence_mapper)\n"
     ]
    }
   ],
   "source": [
    "occurence_mapper = {\n",
    "    'często' : 3,\n",
    "    'bardzo często' : 4,\n",
    "    'rzadko' : 2,\n",
    "    'bardzo rzadko' : 1,\n",
    "    'nigdy' : 0\n",
    "}\n",
    "dataframe['How often did pain occur in last month'] = dataframe['How often did pain occur in last month'].replace(occurence_mapper)"
   ]
  },
  {
   "cell_type": "code",
   "execution_count": 71,
   "id": "39017af3",
   "metadata": {},
   "outputs": [
    {
     "name": "stderr",
     "output_type": "stream",
     "text": [
      "C:\\Users\\micha\\AppData\\Local\\Temp\\ipykernel_1356\\498026982.py:7: FutureWarning: Downcasting behavior in `replace` is deprecated and will be removed in a future version. To retain the old behavior, explicitly call `result.infer_objects(copy=False)`. To opt-in to the future behavior, set `pd.set_option('future.no_silent_downcasting', True)`\n",
      "  dataframe['Pain disturbed everyday life'] = dataframe['Pain disturbed everyday life'].replace(disturb_mapper)\n"
     ]
    }
   ],
   "source": [
    "disturb_mapper = {\n",
    "    'trochę' : 1,\n",
    "    'bardzo' : 3,\n",
    "    'średnio' : 2,\n",
    "    'wcale' : 0\n",
    "}\n",
    "dataframe['Pain disturbed everyday life'] = dataframe['Pain disturbed everyday life'].replace(disturb_mapper)"
   ]
  },
  {
   "cell_type": "code",
   "execution_count": null,
   "id": "2c6d699b",
   "metadata": {},
   "outputs": [
    {
     "data": {
      "text/plain": [
       "Does pain forced to use of painkillers\n",
       "często             33\n",
       "czasami            30\n",
       "bardzo często      17\n",
       "rzadko             16\n",
       "nie musiałem/am     4\n",
       "Name: count, dtype: int64"
      ]
     },
     "execution_count": 72,
     "metadata": {},
     "output_type": "execute_result"
    }
   ],
   "source": [
    "force_mapper = {\n",
    "    'często' : 3,\n",
    "    'bardzo często' : 4,\n",
    "    'rzadko' : 1,\n",
    "    'czasami' : 2,\n",
    "    'nie musiałem/am' : 0\n",
    "}\n",
    "dataframe['Does pain forced to use of painkillers'].value_counts()"
   ]
  },
  {
   "cell_type": "code",
   "execution_count": null,
   "id": "b95fb7e2",
   "metadata": {},
   "outputs": [],
   "source": [
    "dataframe['Does pain forced to use of painkillers'].value_counts()"
   ]
  }
 ],
 "metadata": {
  "kernelspec": {
   "display_name": "venv",
   "language": "python",
   "name": "python3"
  },
  "language_info": {
   "codemirror_mode": {
    "name": "ipython",
    "version": 3
   },
   "file_extension": ".py",
   "mimetype": "text/x-python",
   "name": "python",
   "nbconvert_exporter": "python",
   "pygments_lexer": "ipython3",
   "version": "3.10.11"
  }
 },
 "nbformat": 4,
 "nbformat_minor": 5
}
