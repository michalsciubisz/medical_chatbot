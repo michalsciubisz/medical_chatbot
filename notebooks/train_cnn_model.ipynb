{
 "cells": [
  {
   "cell_type": "code",
   "execution_count": 34,
   "id": "a239fae0",
   "metadata": {},
   "outputs": [],
   "source": [
    "import os\n",
    "import pandas as pd\n",
    "import numpy as np\n",
    "import matplotlib.pyplot as plt\n",
    "from PIL import Image\n",
    "import tensorflow as tf\n",
    "from tensorflow.keras.applications import ResNet50\n",
    "from tensorflow.keras.applications.resnet50 import preprocess_input\n",
    "from tensorflow.keras.preprocessing.image import ImageDataGenerator\n",
    "from tensorflow.keras import layers, models"
   ]
  },
  {
   "cell_type": "markdown",
   "id": "0562f7f5",
   "metadata": {},
   "source": [
    "Firstly important thing is  to compare the differences between 5 classes classification problem and 3 classes one. Since the differences between severity levels are not so meaningfull."
   ]
  },
  {
   "cell_type": "markdown",
   "id": "117112af",
   "metadata": {},
   "source": [
    "### Data exploration"
   ]
  },
  {
   "cell_type": "code",
   "execution_count": 35,
   "id": "66740d62",
   "metadata": {},
   "outputs": [],
   "source": [
    "test_path = 'D:/semestr_10/master_thesis/medical_chatbot/data/images/test'\n",
    "train_path = 'D:/semestr_10/master_thesis/medical_chatbot/data/images/train'\n",
    "val_path = 'D:/semestr_10/master_thesis/medical_chatbot/data/images/val'\n",
    "\n",
    "list_of_classes = ['Health', 'Doubtful', 'Minimal', 'Moderate', 'Severe']"
   ]
  },
  {
   "cell_type": "code",
   "execution_count": 36,
   "id": "872a6309",
   "metadata": {},
   "outputs": [
    {
     "name": "stdout",
     "output_type": "stream",
     "text": [
      "train_df length: 5778, test_df length: 1656, valid_df length: 826\n",
      "The number of classes in the dataset is: 5\n",
      "            CLASS               IMAGE COUNT \n",
      "           Doubtful                1046     \n",
      "            Health                 2286     \n",
      "           Minimal                 1516     \n",
      "           Moderate                 757     \n",
      "            Severe                  173     \n",
      "Health has the most images = 2286, Severe has the least images = 173\n",
      "Average height = 224, average width = 224, aspect ratio = 1.0\n"
     ]
    }
   ],
   "source": [
    "def load_dataset_info(path, list_of_classes):\n",
    "    filepaths = []\n",
    "    labels = []\n",
    "    \n",
    "    class_folders = sorted(os.listdir(path))  # assumes folders are named 0, 1, 2, etc.\n",
    "\n",
    "    for klass in class_folders:\n",
    "        try:\n",
    "            intklass = int(klass)\n",
    "            label = list_of_classes[intklass]\n",
    "        except (ValueError, IndexError):\n",
    "            print(f\"Skipping folder: {klass} (not a valid class index)\")\n",
    "            continue\n",
    "\n",
    "        class_path = os.path.join(path, klass)\n",
    "        for f in os.listdir(class_path):\n",
    "            fpath = os.path.join(class_path, f)\n",
    "            if os.path.isfile(fpath):\n",
    "                filepaths.append(fpath)\n",
    "                labels.append(label)\n",
    "\n",
    "    return pd.DataFrame({'filepaths': filepaths, 'labels': labels})\n",
    "\n",
    "train_df = load_dataset_info(train_path, list_of_classes)\n",
    "valid_df = load_dataset_info(val_path, list_of_classes)\n",
    "test_df  = load_dataset_info(test_path, list_of_classes)\n",
    "\n",
    "print(f'train_df length: {len(train_df)}, test_df length: {len(test_df)}, valid_df length: {len(valid_df)}')\n",
    "\n",
    "classes = sorted(train_df['labels'].unique())\n",
    "class_count = len(classes)\n",
    "print(f'The number of classes in the dataset is: {class_count}')\n",
    "\n",
    "groups = train_df.groupby('labels')\n",
    "print(f'{\"CLASS\":^30s} {\"IMAGE COUNT\":^13s}')\n",
    "countlist = []\n",
    "classlist = []\n",
    "\n",
    "for label in classes:\n",
    "    group = groups.get_group(label)\n",
    "    count = len(group)\n",
    "    countlist.append(count)\n",
    "    classlist.append(label)\n",
    "    print(f'{label:^30s} {str(count):^13s}')\n",
    "\n",
    "# Min/Max class info\n",
    "max_value = np.max(countlist)\n",
    "max_index = countlist.index(max_value)\n",
    "max_class = classlist[max_index]\n",
    "\n",
    "min_value = np.min(countlist)\n",
    "min_index = countlist.index(min_value)\n",
    "min_class = classlist[min_index]\n",
    "\n",
    "print(f'{max_class} has the most images = {max_value}, {min_class} has the least images = {min_value}')\n",
    "\n",
    "# Estimate average image shape\n",
    "ht = 0\n",
    "wt = 0\n",
    "sample_size = min(100, len(train_df))\n",
    "train_df_sample = train_df.sample(n=sample_size, random_state=123)\n",
    "\n",
    "for i in range(sample_size):\n",
    "    fpath = train_df_sample.iloc[i]['filepaths']\n",
    "    try:\n",
    "        with Image.open(fpath) as img:\n",
    "            shape = img.size  # (width, height)\n",
    "            wt += shape[0]\n",
    "            ht += shape[1]\n",
    "    except Exception as e:\n",
    "        print(f\"Skipping unreadable file: {fpath}, error: {e}\")\n",
    "\n",
    "avg_height = ht // sample_size\n",
    "avg_width = wt // sample_size\n",
    "aspect_ratio = round(ht / wt, 2) if wt != 0 else 'undefined'\n",
    "\n",
    "print(f'Average height = {avg_height}, average width = {avg_width}, aspect ratio = {aspect_ratio}')"
   ]
  },
  {
   "cell_type": "code",
   "execution_count": 37,
   "id": "c865dc95",
   "metadata": {},
   "outputs": [
    {
     "name": "stdout",
     "output_type": "stream",
     "text": [
      "labels\n",
      "Doubtful    200\n",
      "Health      200\n",
      "Minimal     200\n",
      "Moderate    200\n",
      "Severe      173\n",
      "Name: count, dtype: int64\n"
     ]
    },
    {
     "name": "stderr",
     "output_type": "stream",
     "text": [
      "C:\\Users\\micha\\AppData\\Local\\Temp\\ipykernel_13044\\3459420496.py:5: DeprecationWarning: DataFrameGroupBy.apply operated on the grouping columns. This behavior is deprecated, and in a future version of pandas the grouping columns will be excluded from the operation. Either pass `include_groups=False` to exclude the groupings or explicitly select the grouping columns after groupby to silence this warning.\n",
      "  .apply(\n"
     ]
    }
   ],
   "source": [
    "min_samples_per_class = train_df['labels'].value_counts().min()\n",
    "\n",
    "train_5classes_df = (\n",
    "    train_df.groupby('labels')\n",
    "    .apply(\n",
    "        lambda x: x.sample(n=200, random_state=42) if len(x) >= 200 else x.sample(n=200, replace=True, random_state=42)\n",
    "        if x.name != 'Severe' else x\n",
    "    )\n",
    "    .reset_index(drop=True)\n",
    ")\n",
    "\n",
    "print(train_5classes_df['labels'].value_counts())"
   ]
  },
  {
   "cell_type": "code",
   "execution_count": 38,
   "id": "4cec788c",
   "metadata": {},
   "outputs": [
    {
     "name": "stdout",
     "output_type": "stream",
     "text": [
      "labels\n",
      "Advanced    200\n",
      "Healthy     200\n",
      "Minimal     200\n",
      "Name: count, dtype: int64\n"
     ]
    },
    {
     "name": "stderr",
     "output_type": "stream",
     "text": [
      "C:\\Users\\micha\\AppData\\Local\\Temp\\ipykernel_13044\\346097095.py:13: DeprecationWarning: DataFrameGroupBy.apply operated on the grouping columns. This behavior is deprecated, and in a future version of pandas the grouping columns will be excluded from the operation. Either pass `include_groups=False` to exclude the groupings or explicitly select the grouping columns after groupby to silence this warning.\n",
      "  .apply(lambda x: x.sample(n=200, random_state=42))\n"
     ]
    }
   ],
   "source": [
    "label_map = {\n",
    "    'Health': 'Healthy',\n",
    "    'Doubtful': 'Minimal',\n",
    "    'Minimal': 'Minimal',\n",
    "    'Moderate': 'Advanced',\n",
    "    'Severe': 'Advanced'\n",
    "}\n",
    "\n",
    "train_df['labels'] = train_df['labels'].map(label_map)\n",
    "\n",
    "train_3classes_df = (\n",
    "    train_df.groupby('labels')\n",
    "    .apply(lambda x: x.sample(n=200, random_state=42))\n",
    "    .reset_index(drop=True)\n",
    ")\n",
    "\n",
    "print(train_3classes_df['labels'].value_counts())"
   ]
  },
  {
   "cell_type": "code",
   "execution_count": 43,
   "id": "598d19c2",
   "metadata": {},
   "outputs": [
    {
     "name": "stdout",
     "output_type": "stream",
     "text": [
      "Found 480 validated image filenames belonging to 3 classes.\n"
     ]
    },
    {
     "name": "stdout",
     "output_type": "stream",
     "text": [
      "Found 120 validated image filenames belonging to 3 classes.\n"
     ]
    }
   ],
   "source": [
    "IMG_SIZE = (224, 224)\n",
    "BATCH_SIZE = 32\n",
    "\n",
    "train_datagen = ImageDataGenerator(preprocessing_function=preprocess_input, validation_split=0.2)\n",
    "\n",
    "# For 3-class classification\n",
    "train_gen_3 = train_datagen.flow_from_dataframe(\n",
    "    train_3classes_df,\n",
    "    x_col='filepaths',\n",
    "    y_col='labels',\n",
    "    target_size=IMG_SIZE,\n",
    "    batch_size=BATCH_SIZE,\n",
    "    class_mode='categorical',\n",
    "    subset='training',\n",
    "    augmentation=True,\n",
    "    shuffle=True,\n",
    "    seed=42\n",
    ")\n",
    "\n",
    "val_gen_3 = train_datagen.flow_from_dataframe(\n",
    "    train_3classes_df,\n",
    "    x_col='filepaths',\n",
    "    y_col='labels',\n",
    "    target_size=IMG_SIZE,\n",
    "    batch_size=BATCH_SIZE,\n",
    "    class_mode='categorical',\n",
    "    subset='validation',\n",
    "    augmentation=True,\n",
    "    shuffle=False,\n",
    "    seed=42\n",
    ")"
   ]
  },
  {
   "cell_type": "code",
   "execution_count": 44,
   "id": "c61d7d0f",
   "metadata": {},
   "outputs": [],
   "source": [
    "base_model = ResNet50(include_top=False, weights='imagenet', input_shape=(224, 224, 3))\n",
    "base_model.trainable = True  # freeze base model layers\n",
    "\n",
    "model = models.Sequential([\n",
    "    base_model,\n",
    "    layers.GlobalAveragePooling2D(),\n",
    "    layers.Dense(128, activation='relu'),\n",
    "    layers.Dropout(0.3),\n",
    "    layers.Dense(3, activation='softmax')\n",
    "])"
   ]
  },
  {
   "cell_type": "code",
   "execution_count": 45,
   "id": "b295ea46",
   "metadata": {},
   "outputs": [],
   "source": [
    "model.compile(\n",
    "    optimizer=tf.keras.optimizers.Adam(learning_rate=1e-4),\n",
    "    loss='categorical_crossentropy',\n",
    "    metrics=['accuracy']\n",
    ")"
   ]
  },
  {
   "cell_type": "code",
   "execution_count": null,
   "id": "bf0702a4",
   "metadata": {},
   "outputs": [
    {
     "name": "stderr",
     "output_type": "stream",
     "text": [
      "d:\\semestr_10\\master_thesis\\medical_chatbot\\venv\\lib\\site-packages\\keras\\src\\trainers\\data_adapters\\py_dataset_adapter.py:121: UserWarning: Your `PyDataset` class should call `super().__init__(**kwargs)` in its constructor. `**kwargs` can include `workers`, `use_multiprocessing`, `max_queue_size`. Do not pass these arguments to `fit()`, as they will be ignored.\n",
      "  self._warn_if_super_not_called()\n"
     ]
    },
    {
     "name": "stdout",
     "output_type": "stream",
     "text": [
      "Epoch 1/10\n",
      "\u001b[1m15/15\u001b[0m \u001b[32m━━━━━━━━━━━━━━━━━━━━\u001b[0m\u001b[37m\u001b[0m \u001b[1m329s\u001b[0m 18s/step - accuracy: 0.4462 - loss: 1.1305 - val_accuracy: 0.0250 - val_loss: 1.6600\n",
      "Epoch 2/10\n",
      "\u001b[1m15/15\u001b[0m \u001b[32m━━━━━━━━━━━━━━━━━━━━\u001b[0m\u001b[37m\u001b[0m \u001b[1m282s\u001b[0m 19s/step - accuracy: 0.8596 - loss: 0.4680 - val_accuracy: 0.1333 - val_loss: 1.6679\n",
      "Epoch 3/10\n",
      "\u001b[1m15/15\u001b[0m \u001b[32m━━━━━━━━━━━━━━━━━━━━\u001b[0m\u001b[37m\u001b[0m \u001b[1m322s\u001b[0m 21s/step - accuracy: 0.9426 - loss: 0.2192 - val_accuracy: 0.2333 - val_loss: 1.4654\n",
      "Epoch 4/10\n",
      "\u001b[1m15/15\u001b[0m \u001b[32m━━━━━━━━━━━━━━━━━━━━\u001b[0m\u001b[37m\u001b[0m \u001b[1m337s\u001b[0m 22s/step - accuracy: 0.9963 - loss: 0.0699 - val_accuracy: 0.2917 - val_loss: 1.5602\n",
      "Epoch 5/10\n",
      "\u001b[1m15/15\u001b[0m \u001b[32m━━━━━━━━━━━━━━━━━━━━\u001b[0m\u001b[37m\u001b[0m \u001b[1m504s\u001b[0m 34s/step - accuracy: 0.9978 - loss: 0.0289 - val_accuracy: 0.3083 - val_loss: 1.7902\n",
      "Epoch 6/10\n",
      "\u001b[1m15/15\u001b[0m \u001b[32m━━━━━━━━━━━━━━━━━━━━\u001b[0m\u001b[37m\u001b[0m \u001b[1m454s\u001b[0m 26s/step - accuracy: 0.9969 - loss: 0.0223 - val_accuracy: 0.3417 - val_loss: 1.7105\n",
      "Epoch 7/10\n",
      "\u001b[1m12/15\u001b[0m \u001b[32m━━━━━━━━━━━━━━━━\u001b[0m\u001b[37m━━━━\u001b[0m \u001b[1m1:34\u001b[0m 31s/step - accuracy: 1.0000 - loss: 0.0098"
     ]
    }
   ],
   "source": [
    "history = model.fit(\n",
    "    train_gen_3,\n",
    "    validation_data=val_gen_3,\n",
    "    epochs=10,\n",
    "    verbose=1\n",
    ")"
   ]
  },
  {
   "cell_type": "code",
   "execution_count": null,
   "id": "8633dbc8",
   "metadata": {},
   "outputs": [
    {
     "data": {
      "image/png": "[encoded data removed]",
      "text/plain": [
       "<Figure size 640x480 with 1 Axes>"
      ]
     },
     "metadata": {},
     "output_type": "display_data"
    }
   ],
   "source": [
    "plt.plot(history.history['accuracy'], label='Train Accuracy')\n",
    "plt.plot(history.history['val_accuracy'], label='Val Accuracy')\n",
    "plt.xlabel('Epoch')\n",
    "plt.ylabel('Accuracy')\n",
    "plt.legend()\n",
    "plt.show()"
   ]
  },
  {
   "cell_type": "code",
   "execution_count": null,
   "id": "dd2cdee7",
   "metadata": {},
   "outputs": [
    {
     "name": "stdout",
     "output_type": "stream",
     "text": [
      "Found 779 validated image filenames belonging to 5 classes.\n",
      "Found 194 validated image filenames belonging to 5 classes.\n"
     ]
    }
   ],
   "source": [
    "IMG_SIZE = (224, 224)\n",
    "BATCH_SIZE = 32\n",
    "\n",
    "train_datagen = ImageDataGenerator(preprocessing_function=preprocess_input, validation_split=0.2)\n",
    "\n",
    "# For 5-class classification\n",
    "train_gen_5 = train_datagen.flow_from_dataframe(\n",
    "    train_5classes_df,\n",
    "    x_col='filepaths',\n",
    "    y_col='labels',\n",
    "    target_size=IMG_SIZE,\n",
    "    batch_size=BATCH_SIZE,\n",
    "    class_mode='categorical',\n",
    "    subset='training',\n",
    "    shuffle=True,\n",
    "    augmentation=True,\n",
    "    seed=42\n",
    ")\n",
    "\n",
    "val_gen_5 = train_datagen.flow_from_dataframe(\n",
    "    train_5classes_df,\n",
    "    x_col='filepaths',\n",
    "    y_col='labels',\n",
    "    target_size=IMG_SIZE,\n",
    "    batch_size=BATCH_SIZE,\n",
    "    class_mode='categorical',\n",
    "    subset='validation',\n",
    "    shuffle=False,\n",
    "    augmentation=True,\n",
    "    seed=42\n",
    ")"
   ]
  },
  {
   "cell_type": "code",
   "execution_count": null,
   "id": "43ad1735",
   "metadata": {},
   "outputs": [],
   "source": [
    "base_model = ResNet50(include_top=False, weights='imagenet', input_shape=(224, 224, 3))\n",
    "base_model.trainable = True\n",
    "\n",
    "model5 = models.Sequential([\n",
    "    base_model,\n",
    "    layers.GlobalAveragePooling2D(),\n",
    "    layers.Dense(128, activation='relu'),\n",
    "    layers.Dropout(0.3),\n",
    "    layers.Dense(5, activation='softmax')\n",
    "])"
   ]
  },
  {
   "cell_type": "code",
   "execution_count": null,
   "id": "91a7fab2",
   "metadata": {},
   "outputs": [],
   "source": [
    "model5.compile(\n",
    "    optimizer=tf.keras.optimizers.Adam(learning_rate=1e-4),\n",
    "    loss='categorical_crossentropy',\n",
    "    metrics=['accuracy']\n",
    ")"
   ]
  },
  {
   "cell_type": "code",
   "execution_count": null,
   "id": "eb3541b6",
   "metadata": {},
   "outputs": [
    {
     "name": "stdout",
     "output_type": "stream",
     "text": [
      "['Doubtful' 'Health' 'Minimal' 'Moderate' 'Severe']\n",
      "Train samples: 779\n",
      "Val samples: 194\n",
      "x_val shape: (32, 224, 224, 3)\n",
      "y_val shape: (32, 5)\n",
      "y_val[0]: [1. 0. 0. 0. 0.]\n"
     ]
    }
   ],
   "source": [
    "print(train_5classes_df['labels'].unique())\n",
    "print(\"Train samples:\", train_gen_5.samples)\n",
    "print(\"Val samples:\", val_gen_5.samples)\n",
    "\n",
    "x_val_batch, y_val_batch = next(val_gen_5)\n",
    "print(\"x_val shape:\", x_val_batch.shape)\n",
    "print(\"y_val shape:\", y_val_batch.shape)\n",
    "print(\"y_val[0]:\", y_val_batch[0])"
   ]
  },
  {
   "cell_type": "code",
   "execution_count": null,
   "id": "d5243e4b",
   "metadata": {},
   "outputs": [
    {
     "name": "stdout",
     "output_type": "stream",
     "text": [
      "Epoch 1/10\n",
      "\u001b[1m25/25\u001b[0m \u001b[32m━━━━━━━━━━━━━━━━━━━━\u001b[0m\u001b[37m\u001b[0m \u001b[1m149s\u001b[0m 6s/step - accuracy: 0.2312 - loss: 2.0177 - val_accuracy: 0.0000e+00 - val_loss: 3.7933\n",
      "Epoch 2/10\n",
      "\u001b[1m25/25\u001b[0m \u001b[32m━━━━━━━━━━━━━━━━━━━━\u001b[0m\u001b[37m\u001b[0m \u001b[1m153s\u001b[0m 6s/step - accuracy: 0.2869 - loss: 1.5055 - val_accuracy: 0.0000e+00 - val_loss: 3.9934\n",
      "Epoch 3/10\n",
      "\u001b[1m25/25\u001b[0m \u001b[32m━━━━━━━━━━━━━━━━━━━━\u001b[0m\u001b[37m\u001b[0m \u001b[1m148s\u001b[0m 6s/step - accuracy: 0.3931 - loss: 1.3242 - val_accuracy: 0.0000e+00 - val_loss: 4.3254\n",
      "Epoch 4/10\n",
      "\u001b[1m25/25\u001b[0m \u001b[32m━━━━━━━━━━━━━━━━━━━━\u001b[0m\u001b[37m\u001b[0m \u001b[1m122s\u001b[0m 5s/step - accuracy: 0.4643 - loss: 1.2514 - val_accuracy: 0.0000e+00 - val_loss: 4.1293\n",
      "Epoch 5/10\n",
      "\u001b[1m25/25\u001b[0m \u001b[32m━━━━━━━━━━━━━━━━━━━━\u001b[0m\u001b[37m\u001b[0m \u001b[1m135s\u001b[0m 5s/step - accuracy: 0.4602 - loss: 1.2011 - val_accuracy: 0.0000e+00 - val_loss: 4.1406\n",
      "Epoch 6/10\n",
      "\u001b[1m25/25\u001b[0m \u001b[32m━━━━━━━━━━━━━━━━━━━━\u001b[0m\u001b[37m\u001b[0m \u001b[1m133s\u001b[0m 5s/step - accuracy: 0.4646 - loss: 1.1556 - val_accuracy: 0.0000e+00 - val_loss: 4.0904\n",
      "Epoch 7/10\n",
      "\u001b[1m25/25\u001b[0m \u001b[32m━━━━━━━━━━━━━━━━━━━━\u001b[0m\u001b[37m\u001b[0m \u001b[1m141s\u001b[0m 6s/step - accuracy: 0.5359 - loss: 1.1073 - val_accuracy: 0.0000e+00 - val_loss: 4.2135\n",
      "Epoch 8/10\n",
      "\u001b[1m25/25\u001b[0m \u001b[32m━━━━━━━━━━━━━━━━━━━━\u001b[0m\u001b[37m\u001b[0m \u001b[1m109s\u001b[0m 4s/step - accuracy: 0.5387 - loss: 1.0723 - val_accuracy: 0.0000e+00 - val_loss: 4.3495\n",
      "Epoch 9/10\n",
      "\u001b[1m25/25\u001b[0m \u001b[32m━━━━━━━━━━━━━━━━━━━━\u001b[0m\u001b[37m\u001b[0m \u001b[1m99s\u001b[0m 4s/step - accuracy: 0.5824 - loss: 1.0349 - val_accuracy: 0.0000e+00 - val_loss: 4.2754\n",
      "Epoch 10/10\n",
      "\u001b[1m25/25\u001b[0m \u001b[32m━━━━━━━━━━━━━━━━━━━━\u001b[0m\u001b[37m\u001b[0m \u001b[1m90s\u001b[0m 4s/step - accuracy: 0.5584 - loss: 1.0266 - val_accuracy: 0.0000e+00 - val_loss: 4.4481\n"
     ]
    }
   ],
   "source": [
    "history5 = model5.fit(\n",
    "    train_gen_5,\n",
    "    validation_data=val_gen_5,\n",
    "    epochs=10,\n",
    "    verbose=1\n",
    ")"
   ]
  },
  {
   "cell_type": "code",
   "execution_count": null,
   "id": "252e615f",
   "metadata": {},
   "outputs": [
    {
     "data": {
      "image/png": "[encoded data removed]",
      "text/plain": [
       "<Figure size 640x480 with 1 Axes>"
      ]
     },
     "metadata": {},
     "output_type": "display_data"
    }
   ],
   "source": [
    "plt.plot(history5.history['accuracy'], label='Train Accuracy')\n",
    "plt.plot(history5.history['val_accuracy'], label='Val Accuracy')\n",
    "plt.xlabel('Epoch')\n",
    "plt.ylabel('Accuracy')\n",
    "plt.legend()\n",
    "plt.show()"
   ]
  }
 ],
 "metadata": {
  "kernelspec": {
   "display_name": "venv",
   "language": "python",
   "name": "python3"
  },
  "language_info": {
   "codemirror_mode": {
    "name": "ipython",
    "version": 3
   },
   "file_extension": ".py",
   "mimetype": "text/x-python",
   "name": "python",
   "nbconvert_exporter": "python",
   "pygments_lexer": "ipython3",
   "version": "3.10.11"
  }
 },
 "nbformat": 4,
 "nbformat_minor": 5
}
